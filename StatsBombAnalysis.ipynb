{
 "cells": [
  {
   "cell_type": "code",
   "execution_count": 214,
   "metadata": {
    "collapsed": false
   },
   "outputs": [],
   "source": [
    "import pystatsbomb as sb\n",
    "import pandas as pd"
   ]
  },
  {
   "cell_type": "code",
   "execution_count": 215,
   "metadata": {
    "collapsed": false
   },
   "outputs": [],
   "source": [
    "c = sb.Client()"
   ]
  },
  {
   "cell_type": "code",
   "execution_count": 216,
   "metadata": {
    "collapsed": false
   },
   "outputs": [],
   "source": [
    "c.get_competitions()"
   ]
  },
  {
   "cell_type": "code",
   "execution_count": 217,
   "metadata": {
    "collapsed": false
   },
   "outputs": [
    {
     "data": {
      "text/plain": [
       "{'competition_id': 49,\n",
       " 'competition_name': 'NWSL',\n",
       " 'country_name': 'United States of America',\n",
       " 'match_available': '2018-06-11T15:34:54.124942',\n",
       " 'match_updated': '2018-06-11T15:34:54.124942',\n",
       " 'season_id': 3,\n",
       " 'season_name': '2018'}"
      ]
     },
     "execution_count": 217,
     "metadata": {},
     "output_type": "execute_result"
    }
   ],
   "source": [
    "c.competitions[1]"
   ]
  },
  {
   "cell_type": "code",
   "execution_count": 218,
   "metadata": {
    "collapsed": false
   },
   "outputs": [],
   "source": [
    "c.get_matches()"
   ]
  },
  {
   "cell_type": "code",
   "execution_count": 219,
   "metadata": {
    "collapsed": false
   },
   "outputs": [
    {
     "data": {
      "text/plain": [
       "{'away_score': 1,\n",
       " 'away_team': {'away_team_id': 761, 'away_team_name': 'Chicago Red Stars'},\n",
       " 'competition': {'competition_id': 49,\n",
       "  'competition_name': 'NWSL',\n",
       "  'country_name': 'United States of America'},\n",
       " 'data_version': '1.0.2',\n",
       " 'home_score': 1,\n",
       " 'home_team': {'home_team_id': 766,\n",
       "  'home_team_name': 'North Carolina Courage'},\n",
       " 'kick_off': None,\n",
       " 'last_updated': '2018-06-11T15:34:54.124942',\n",
       " 'match_date': '2018-05-06',\n",
       " 'match_id': 7444,\n",
       " 'match_status': 'available',\n",
       " 'referee_name': 'M. Vega',\n",
       " 'season': {'season_id': 3, 'season_name': '2018'},\n",
       " 'stadium_name': \"Sahlen's Stadium at WakeMed Soccer Park\"}"
      ]
     },
     "execution_count": 219,
     "metadata": {},
     "output_type": "execute_result"
    }
   ],
   "source": [
    "c.matches[1]"
   ]
  },
  {
   "cell_type": "code",
   "execution_count": 220,
   "metadata": {
    "collapsed": false
   },
   "outputs": [],
   "source": [
    "c.get_lineups(match_id=7298)"
   ]
  },
  {
   "cell_type": "code",
   "execution_count": 221,
   "metadata": {
    "collapsed": false
   },
   "outputs": [
    {
     "data": {
      "text/plain": [
       "{'lineup': [{'country': {'id': 220, 'name': 'Sweden'},\n",
       "   'jersey_number': 15,\n",
       "   'player_id': 4635,\n",
       "   'player_name': 'Julia Spetsmark'},\n",
       "  {'country': {'id': 68, 'name': 'England'},\n",
       "   'jersey_number': 26,\n",
       "   'player_id': 4637,\n",
       "   'player_name': 'Ellie Roebuck'},\n",
       "  {'country': {'id': 68, 'name': 'England'},\n",
       "   'jersey_number': 12,\n",
       "   'player_id': 4643,\n",
       "   'player_name': 'Georgia Stanway'},\n",
       "  {'country': {'id': 68, 'name': 'England'},\n",
       "   'jersey_number': 8,\n",
       "   'player_id': 4644,\n",
       "   'player_name': 'Jill Scott'},\n",
       "  {'country': {'id': 68, 'name': 'England'},\n",
       "   'jersey_number': 11,\n",
       "   'player_id': 4645,\n",
       "   'player_name': 'Isobel Christiansen'},\n",
       "  {'country': {'id': 201, 'name': 'Scotland'},\n",
       "   'jersey_number': 22,\n",
       "   'player_id': 4646,\n",
       "   'player_name': 'Claire Emslie'},\n",
       "  {'country': {'id': 68, 'name': 'England'},\n",
       "   'jersey_number': 23,\n",
       "   'player_id': 4648,\n",
       "   'player_name': 'Abbie McManus'},\n",
       "  {'country': {'id': 68, 'name': 'England'},\n",
       "   'jersey_number': 14,\n",
       "   'player_id': 4649,\n",
       "   'player_name': 'Esme Beth Morgan'},\n",
       "  {'country': {'id': 61, 'name': 'Denmark'},\n",
       "   'jersey_number': 10,\n",
       "   'player_id': 4650,\n",
       "   'player_name': 'Nadia Nadim'},\n",
       "  {'country': {'id': 68, 'name': 'England'},\n",
       "   'jersey_number': 3,\n",
       "   'player_id': 4651,\n",
       "   'player_name': 'Demi Stokes'},\n",
       "  {'country': {'id': 201, 'name': 'Scotland'},\n",
       "   'jersey_number': 16,\n",
       "   'player_id': 4653,\n",
       "   'player_name': 'Jane Ross'},\n",
       "  {'country': {'id': 68, 'name': 'England'},\n",
       "   'jersey_number': 17,\n",
       "   'player_id': 4654,\n",
       "   'player_name': 'Nikita Parris'},\n",
       "  {'country': {'id': 201, 'name': 'Scotland'},\n",
       "   'jersey_number': 5,\n",
       "   'player_id': 4655,\n",
       "   'player_name': 'Jennifer Beattie'},\n",
       "  {'country': {'id': 68, 'name': 'England'},\n",
       "   'jersey_number': 24,\n",
       "   'player_id': 4658,\n",
       "   'player_name': 'Keira Walsh'}],\n",
       " 'match_id': 7298,\n",
       " 'team_id': 746,\n",
       " 'team_name': 'Manchester City WFC'}"
      ]
     },
     "execution_count": 221,
     "metadata": {},
     "output_type": "execute_result"
    }
   ],
   "source": [
    "c.lineups[1]"
   ]
  },
  {
   "cell_type": "code",
   "execution_count": null,
   "metadata": {
    "collapsed": true
   },
   "outputs": [],
   "source": []
  },
  {
   "cell_type": "code",
   "execution_count": 222,
   "metadata": {
    "collapsed": false
   },
   "outputs": [],
   "source": [
    "c.get_events()"
   ]
  },
  {
   "cell_type": "code",
   "execution_count": 223,
   "metadata": {
    "collapsed": false
   },
   "outputs": [],
   "source": [
    "events = c.events"
   ]
  },
  {
   "cell_type": "code",
   "execution_count": 224,
   "metadata": {
    "collapsed": false
   },
   "outputs": [
    {
     "data": {
      "text/plain": [
       "2960"
      ]
     },
     "execution_count": 224,
     "metadata": {},
     "output_type": "execute_result"
    }
   ],
   "source": [
    "len(events)"
   ]
  },
  {
   "cell_type": "code",
   "execution_count": null,
   "metadata": {
    "collapsed": true
   },
   "outputs": [],
   "source": []
  },
  {
   "cell_type": "markdown",
   "metadata": {},
   "source": [
    "# To Pandas DataFrames"
   ]
  },
  {
   "cell_type": "code",
   "execution_count": 225,
   "metadata": {
    "collapsed": false
   },
   "outputs": [],
   "source": [
    "def getMatchDictChildren(d):\n",
    "    \n",
    "    dict_children = {}\n",
    "    for k,v in d.items():\n",
    "        if isinstance(v, dict):\n",
    "            for k, v in v.items():\n",
    "                dict_children[k] = v\n",
    "        else:\n",
    "            dict_children[k] = v\n",
    "    return dict_children\n",
    "\n",
    "def getLineupParse(l):\n",
    "    \n",
    "    lineup = []\n",
    "    team_name = l.get('team_name', None)\n",
    "    team_id = l.get('team_id', None)\n",
    "    match_id = l.get('match_id', None)\n",
    "    players = l.get('lineup', 'Structure has changed')\n",
    "    \n",
    "    if isinstance(players, list):\n",
    "        for p in players:\n",
    "            name = p.get('player_name', None)\n",
    "            pid = p.get('player_id', None)\n",
    "            jersey = p.get('jersey_number', None)\n",
    "            country_id = p.get('country', {'id':None}).get('id', None)\n",
    "            country_name = p.get('country', {'name':None}).get('name', None)\n",
    "            \n",
    "            lineup.append({\n",
    "                \"match_id\": match_id,\n",
    "                \"team_name\": team_name,\n",
    "                \"team_id\": team_id,\n",
    "                \"player_name\": name,\n",
    "                \"player_id\": pid,\n",
    "                \"jersey_number\": jersey,\n",
    "                \"country_id\": country_id,\n",
    "                \"country_name\": country_name})\n",
    "\n",
    "            \n",
    "    else:\n",
    "        print(players)\n",
    "    return lineup\n",
    "\n",
    "# https://stackoverflow.com/questions/6027558/flatten-nested-python-dictionaries-compressing-keys\n",
    "import collections\n",
    "\n",
    "def flatten(d, parent_key='', sep='_'):\n",
    "    items = []\n",
    "    for k, v in d.items():\n",
    "        new_key = parent_key + sep + k if parent_key else k\n",
    "        if isinstance(v, collections.MutableMapping):\n",
    "            items.extend(flatten(v, new_key, sep=sep).items())\n",
    "        else:\n",
    "            items.append((new_key, v))\n",
    "    return dict(items)"
   ]
  },
  {
   "cell_type": "code",
   "execution_count": 226,
   "metadata": {
    "collapsed": false
   },
   "outputs": [],
   "source": [
    "df_competitions = pd.DataFrame(c.competitions)"
   ]
  },
  {
   "cell_type": "code",
   "execution_count": 227,
   "metadata": {
    "collapsed": false
   },
   "outputs": [],
   "source": [
    "df_matches = pd.DataFrame([getMatchDictChildren(match) for match in c.matches])"
   ]
  },
  {
   "cell_type": "code",
   "execution_count": 228,
   "metadata": {
    "collapsed": false
   },
   "outputs": [],
   "source": [
    "lineup_list = [getLineupParse(l) for l in c.lineups]\n",
    "lineup_flat_list = [player for team in lineup_list for player in team]\n",
    "df_lineups = pd.DataFrame(lineup_flat_list)"
   ]
  },
  {
   "cell_type": "code",
   "execution_count": 229,
   "metadata": {
    "collapsed": false
   },
   "outputs": [
    {
     "data": {
      "text/html": [
       "<div>\n",
       "<table border=\"1\" class=\"dataframe\">\n",
       "  <thead>\n",
       "    <tr style=\"text-align: right;\">\n",
       "      <th></th>\n",
       "      <th>country_id</th>\n",
       "      <th>country_name</th>\n",
       "      <th>jersey_number</th>\n",
       "      <th>match_id</th>\n",
       "      <th>player_id</th>\n",
       "      <th>player_name</th>\n",
       "      <th>team_id</th>\n",
       "      <th>team_name</th>\n",
       "    </tr>\n",
       "  </thead>\n",
       "  <tbody>\n",
       "    <tr>\n",
       "      <th>0</th>\n",
       "      <td>220</td>\n",
       "      <td>Sweden</td>\n",
       "      <td>16</td>\n",
       "      <td>7298</td>\n",
       "      <td>4633</td>\n",
       "      <td>Magdalena Ericsson</td>\n",
       "      <td>745</td>\n",
       "      <td>Chelsea LFC</td>\n",
       "    </tr>\n",
       "    <tr>\n",
       "      <th>1</th>\n",
       "      <td>241</td>\n",
       "      <td>United States of America</td>\n",
       "      <td>19</td>\n",
       "      <td>7298</td>\n",
       "      <td>4634</td>\n",
       "      <td>Crystal Dunn</td>\n",
       "      <td>745</td>\n",
       "      <td>Chelsea LFC</td>\n",
       "    </tr>\n",
       "    <tr>\n",
       "      <th>2</th>\n",
       "      <td>171</td>\n",
       "      <td>Norway</td>\n",
       "      <td>2</td>\n",
       "      <td>7298</td>\n",
       "      <td>4636</td>\n",
       "      <td>Maria Thorisdottir</td>\n",
       "      <td>745</td>\n",
       "      <td>Chelsea LFC</td>\n",
       "    </tr>\n",
       "    <tr>\n",
       "      <th>3</th>\n",
       "      <td>68</td>\n",
       "      <td>England</td>\n",
       "      <td>24</td>\n",
       "      <td>7298</td>\n",
       "      <td>4638</td>\n",
       "      <td>Drew Spence</td>\n",
       "      <td>745</td>\n",
       "      <td>Chelsea LFC</td>\n",
       "    </tr>\n",
       "    <tr>\n",
       "      <th>4</th>\n",
       "      <td>171</td>\n",
       "      <td>Norway</td>\n",
       "      <td>18</td>\n",
       "      <td>7298</td>\n",
       "      <td>4639</td>\n",
       "      <td>Maren Mjelde</td>\n",
       "      <td>745</td>\n",
       "      <td>Chelsea LFC</td>\n",
       "    </tr>\n",
       "  </tbody>\n",
       "</table>\n",
       "</div>"
      ],
      "text/plain": [
       "   country_id              country_name  jersey_number  match_id  player_id  \\\n",
       "0         220                    Sweden             16      7298       4633   \n",
       "1         241  United States of America             19      7298       4634   \n",
       "2         171                    Norway              2      7298       4636   \n",
       "3          68                   England             24      7298       4638   \n",
       "4         171                    Norway             18      7298       4639   \n",
       "\n",
       "          player_name  team_id    team_name  \n",
       "0  Magdalena Ericsson      745  Chelsea LFC  \n",
       "1        Crystal Dunn      745  Chelsea LFC  \n",
       "2  Maria Thorisdottir      745  Chelsea LFC  \n",
       "3         Drew Spence      745  Chelsea LFC  \n",
       "4        Maren Mjelde      745  Chelsea LFC  "
      ]
     },
     "execution_count": 229,
     "metadata": {},
     "output_type": "execute_result"
    }
   ],
   "source": [
    "df_lineups.head()"
   ]
  },
  {
   "cell_type": "code",
   "execution_count": 230,
   "metadata": {
    "collapsed": false
   },
   "outputs": [],
   "source": [
    "flat_events = [flatten(e) for e in c.events]\n",
    "ekeys = [list(e.keys()) for e in flat_events]\n",
    "ekeys_all = [i for s in ekeys for i in s]\n",
    "set_all_keys = set(ekeys_all)\n",
    "df_events = pd.DataFrame(flat_events, columns=set_all_keys)"
   ]
  },
  {
   "cell_type": "code",
   "execution_count": 231,
   "metadata": {
    "collapsed": false
   },
   "outputs": [
    {
     "data": {
      "text/html": [
       "<div>\n",
       "<table border=\"1\" class=\"dataframe\">\n",
       "  <thead>\n",
       "    <tr style=\"text-align: right;\">\n",
       "      <th></th>\n",
       "      <th>substitution_replacement_name</th>\n",
       "      <th>pass_recipient_name</th>\n",
       "      <th>pass_shot_assist</th>\n",
       "      <th>index</th>\n",
       "      <th>tactics_formation</th>\n",
       "      <th>shot_follows_dribble</th>\n",
       "      <th>bad_behaviour_card_name</th>\n",
       "      <th>related_events</th>\n",
       "      <th>shot_technique_id</th>\n",
       "      <th>match_id</th>\n",
       "      <th>...</th>\n",
       "      <th>possession</th>\n",
       "      <th>shot_freeze_frame</th>\n",
       "      <th>pass_outcome_name</th>\n",
       "      <th>position_name</th>\n",
       "      <th>shot_technique_name</th>\n",
       "      <th>location</th>\n",
       "      <th>pass_end_location</th>\n",
       "      <th>pass_length</th>\n",
       "      <th>duel_type_id</th>\n",
       "      <th>shot_outcome_name</th>\n",
       "    </tr>\n",
       "  </thead>\n",
       "  <tbody>\n",
       "    <tr>\n",
       "      <th>0</th>\n",
       "      <td>NaN</td>\n",
       "      <td>NaN</td>\n",
       "      <td>NaN</td>\n",
       "      <td>1</td>\n",
       "      <td>433.0</td>\n",
       "      <td>NaN</td>\n",
       "      <td>NaN</td>\n",
       "      <td>NaN</td>\n",
       "      <td>NaN</td>\n",
       "      <td>7298</td>\n",
       "      <td>...</td>\n",
       "      <td>1</td>\n",
       "      <td>NaN</td>\n",
       "      <td>NaN</td>\n",
       "      <td>NaN</td>\n",
       "      <td>NaN</td>\n",
       "      <td>NaN</td>\n",
       "      <td>NaN</td>\n",
       "      <td>NaN</td>\n",
       "      <td>NaN</td>\n",
       "      <td>NaN</td>\n",
       "    </tr>\n",
       "    <tr>\n",
       "      <th>1</th>\n",
       "      <td>NaN</td>\n",
       "      <td>NaN</td>\n",
       "      <td>NaN</td>\n",
       "      <td>2</td>\n",
       "      <td>352.0</td>\n",
       "      <td>NaN</td>\n",
       "      <td>NaN</td>\n",
       "      <td>NaN</td>\n",
       "      <td>NaN</td>\n",
       "      <td>7298</td>\n",
       "      <td>...</td>\n",
       "      <td>1</td>\n",
       "      <td>NaN</td>\n",
       "      <td>NaN</td>\n",
       "      <td>NaN</td>\n",
       "      <td>NaN</td>\n",
       "      <td>NaN</td>\n",
       "      <td>NaN</td>\n",
       "      <td>NaN</td>\n",
       "      <td>NaN</td>\n",
       "      <td>NaN</td>\n",
       "    </tr>\n",
       "    <tr>\n",
       "      <th>2</th>\n",
       "      <td>NaN</td>\n",
       "      <td>NaN</td>\n",
       "      <td>NaN</td>\n",
       "      <td>3</td>\n",
       "      <td>NaN</td>\n",
       "      <td>NaN</td>\n",
       "      <td>NaN</td>\n",
       "      <td>[c007670e-f679-4f80-b901-b704130fee05]</td>\n",
       "      <td>NaN</td>\n",
       "      <td>7298</td>\n",
       "      <td>...</td>\n",
       "      <td>1</td>\n",
       "      <td>NaN</td>\n",
       "      <td>NaN</td>\n",
       "      <td>NaN</td>\n",
       "      <td>NaN</td>\n",
       "      <td>NaN</td>\n",
       "      <td>NaN</td>\n",
       "      <td>NaN</td>\n",
       "      <td>NaN</td>\n",
       "      <td>NaN</td>\n",
       "    </tr>\n",
       "    <tr>\n",
       "      <th>3</th>\n",
       "      <td>NaN</td>\n",
       "      <td>NaN</td>\n",
       "      <td>NaN</td>\n",
       "      <td>4</td>\n",
       "      <td>NaN</td>\n",
       "      <td>NaN</td>\n",
       "      <td>NaN</td>\n",
       "      <td>[7fe92118-5965-4033-9b59-29b3947a3d8a]</td>\n",
       "      <td>NaN</td>\n",
       "      <td>7298</td>\n",
       "      <td>...</td>\n",
       "      <td>1</td>\n",
       "      <td>NaN</td>\n",
       "      <td>NaN</td>\n",
       "      <td>NaN</td>\n",
       "      <td>NaN</td>\n",
       "      <td>NaN</td>\n",
       "      <td>NaN</td>\n",
       "      <td>NaN</td>\n",
       "      <td>NaN</td>\n",
       "      <td>NaN</td>\n",
       "    </tr>\n",
       "    <tr>\n",
       "      <th>4</th>\n",
       "      <td>NaN</td>\n",
       "      <td>Ramona Bachmann</td>\n",
       "      <td>NaN</td>\n",
       "      <td>5</td>\n",
       "      <td>NaN</td>\n",
       "      <td>NaN</td>\n",
       "      <td>NaN</td>\n",
       "      <td>[dddef0cb-75ef-4e0e-8f45-e8b7dd9e2c7d]</td>\n",
       "      <td>NaN</td>\n",
       "      <td>7298</td>\n",
       "      <td>...</td>\n",
       "      <td>2</td>\n",
       "      <td>NaN</td>\n",
       "      <td>NaN</td>\n",
       "      <td>Center Midfield</td>\n",
       "      <td>NaN</td>\n",
       "      <td>[61.0, 40.0]</td>\n",
       "      <td>[63.0, 37.0]</td>\n",
       "      <td>3.605551</td>\n",
       "      <td>NaN</td>\n",
       "      <td>NaN</td>\n",
       "    </tr>\n",
       "  </tbody>\n",
       "</table>\n",
       "<p>5 rows × 98 columns</p>\n",
       "</div>"
      ],
      "text/plain": [
       "  substitution_replacement_name pass_recipient_name pass_shot_assist  index  \\\n",
       "0                           NaN                 NaN              NaN      1   \n",
       "1                           NaN                 NaN              NaN      2   \n",
       "2                           NaN                 NaN              NaN      3   \n",
       "3                           NaN                 NaN              NaN      4   \n",
       "4                           NaN     Ramona Bachmann              NaN      5   \n",
       "\n",
       "   tactics_formation shot_follows_dribble bad_behaviour_card_name  \\\n",
       "0              433.0                  NaN                     NaN   \n",
       "1              352.0                  NaN                     NaN   \n",
       "2                NaN                  NaN                     NaN   \n",
       "3                NaN                  NaN                     NaN   \n",
       "4                NaN                  NaN                     NaN   \n",
       "\n",
       "                           related_events  shot_technique_id  match_id  \\\n",
       "0                                     NaN                NaN      7298   \n",
       "1                                     NaN                NaN      7298   \n",
       "2  [c007670e-f679-4f80-b901-b704130fee05]                NaN      7298   \n",
       "3  [7fe92118-5965-4033-9b59-29b3947a3d8a]                NaN      7298   \n",
       "4  [dddef0cb-75ef-4e0e-8f45-e8b7dd9e2c7d]                NaN      7298   \n",
       "\n",
       "         ...         possession  shot_freeze_frame pass_outcome_name  \\\n",
       "0        ...                  1                NaN               NaN   \n",
       "1        ...                  1                NaN               NaN   \n",
       "2        ...                  1                NaN               NaN   \n",
       "3        ...                  1                NaN               NaN   \n",
       "4        ...                  2                NaN               NaN   \n",
       "\n",
       "     position_name  shot_technique_name      location  pass_end_location  \\\n",
       "0              NaN                  NaN           NaN                NaN   \n",
       "1              NaN                  NaN           NaN                NaN   \n",
       "2              NaN                  NaN           NaN                NaN   \n",
       "3              NaN                  NaN           NaN                NaN   \n",
       "4  Center Midfield                  NaN  [61.0, 40.0]       [63.0, 37.0]   \n",
       "\n",
       "  pass_length  duel_type_id  shot_outcome_name  \n",
       "0         NaN           NaN                NaN  \n",
       "1         NaN           NaN                NaN  \n",
       "2         NaN           NaN                NaN  \n",
       "3         NaN           NaN                NaN  \n",
       "4    3.605551           NaN                NaN  \n",
       "\n",
       "[5 rows x 98 columns]"
      ]
     },
     "execution_count": 231,
     "metadata": {},
     "output_type": "execute_result"
    }
   ],
   "source": [
    "df_events.head()"
   ]
  },
  {
   "cell_type": "markdown",
   "metadata": {},
   "source": [
    "# All at Once"
   ]
  },
  {
   "cell_type": "code",
   "execution_count": 1,
   "metadata": {
    "collapsed": true
   },
   "outputs": [],
   "source": [
    "import pystatsbomb as sb\n",
    "import pandas as pd"
   ]
  },
  {
   "cell_type": "code",
   "execution_count": 2,
   "metadata": {
    "collapsed": true
   },
   "outputs": [],
   "source": [
    "c = sb.Client(source=None)"
   ]
  },
  {
   "cell_type": "code",
   "execution_count": 3,
   "metadata": {
    "collapsed": false
   },
   "outputs": [],
   "source": [
    "c.get_all_sb_data(toPandas=True)"
   ]
  },
  {
   "cell_type": "code",
   "execution_count": 4,
   "metadata": {
    "collapsed": false
   },
   "outputs": [
    {
     "data": {
      "text/plain": [
       "(27210, 116)"
      ]
     },
     "execution_count": 4,
     "metadata": {},
     "output_type": "execute_result"
    }
   ],
   "source": [
    "c.df_events.shape"
   ]
  },
  {
   "cell_type": "markdown",
   "metadata": {},
   "source": [
    "# Events"
   ]
  },
  {
   "cell_type": "code",
   "execution_count": 6,
   "metadata": {
    "collapsed": false
   },
   "outputs": [
    {
     "data": {
      "text/plain": [
       "Pass                 9572\n",
       "Ball Receipt*        8249\n",
       "Pressure             3254\n",
       "Ball Recovery        1415\n",
       "Duel                  531\n",
       "Block                 517\n",
       "Clearance             406\n",
       "Dribble               405\n",
       "Goal Keeper           394\n",
       "Miscontrol            337\n",
       "Shot                  325\n",
       "Dribbled Past         277\n",
       "Interception          251\n",
       "Camera On             244\n",
       "Dispossessed          230\n",
       "Foul Committed        221\n",
       "Foul Won              215\n",
       "Camera off             65\n",
       "Substitution           60\n",
       "Half End               44\n",
       "Half Start             44\n",
       "Injury Stoppage        32\n",
       "50/50                  30\n",
       "Starting XI            22\n",
       "Shield                 17\n",
       "Tactical Shift         13\n",
       "Offside                10\n",
       "Player Off              7\n",
       "Player On               7\n",
       "Error                   6\n",
       "Bad Behaviour           4\n",
       "Referee Ball-Drop       2\n",
       "Own Goal Against        2\n",
       "Own Goal For            2\n",
       "Name: type_name, dtype: int64"
      ]
     },
     "execution_count": 6,
     "metadata": {},
     "output_type": "execute_result"
    }
   ],
   "source": [
    "c.df_events['type_name'].value_counts()"
   ]
  },
  {
   "cell_type": "code",
   "execution_count": 234,
   "metadata": {
    "collapsed": false
   },
   "outputs": [
    {
     "data": {
      "text/plain": [
       "{'bad_behaviour_card_id',\n",
       " 'bad_behaviour_card_name',\n",
       " 'ball_receipt_outcome_id',\n",
       " 'ball_receipt_outcome_name',\n",
       " 'ball_recovery_offensive',\n",
       " 'ball_recovery_recovery_failure',\n",
       " 'block_deflection',\n",
       " 'dribble_nutmeg',\n",
       " 'dribble_outcome_id',\n",
       " 'dribble_outcome_name',\n",
       " 'dribble_overrun',\n",
       " 'duel_outcome_id',\n",
       " 'duel_outcome_name',\n",
       " 'duel_type_id',\n",
       " 'duel_type_name',\n",
       " 'duration',\n",
       " 'foul_committed_advantage',\n",
       " 'foul_committed_offensive',\n",
       " 'foul_won_advantage',\n",
       " 'foul_won_defensive',\n",
       " 'goalkeeper_body_part_id',\n",
       " 'goalkeeper_body_part_name',\n",
       " 'goalkeeper_outcome_id',\n",
       " 'goalkeeper_outcome_name',\n",
       " 'goalkeeper_position_id',\n",
       " 'goalkeeper_position_name',\n",
       " 'goalkeeper_technique_id',\n",
       " 'goalkeeper_technique_name',\n",
       " 'goalkeeper_type_id',\n",
       " 'goalkeeper_type_name',\n",
       " 'id',\n",
       " 'index',\n",
       " 'injury_stoppage_in_chain',\n",
       " 'interception_outcome_id',\n",
       " 'interception_outcome_name',\n",
       " 'location',\n",
       " 'match_id',\n",
       " 'minute',\n",
       " 'pass_aerial_won',\n",
       " 'pass_angle',\n",
       " 'pass_assisted_shot_id',\n",
       " 'pass_backheel',\n",
       " 'pass_body_part_id',\n",
       " 'pass_body_part_name',\n",
       " 'pass_cross',\n",
       " 'pass_deflected',\n",
       " 'pass_end_location',\n",
       " 'pass_goal_assist',\n",
       " 'pass_height_id',\n",
       " 'pass_height_name',\n",
       " 'pass_length',\n",
       " 'pass_outcome_id',\n",
       " 'pass_outcome_name',\n",
       " 'pass_recipient_id',\n",
       " 'pass_recipient_name',\n",
       " 'pass_shot_assist',\n",
       " 'pass_switch',\n",
       " 'pass_through_ball',\n",
       " 'pass_type_id',\n",
       " 'pass_type_name',\n",
       " 'period',\n",
       " 'play_pattern_id',\n",
       " 'play_pattern_name',\n",
       " 'player_id',\n",
       " 'player_name',\n",
       " 'position_id',\n",
       " 'position_name',\n",
       " 'possession',\n",
       " 'possession_team_id',\n",
       " 'possession_team_name',\n",
       " 'related_events',\n",
       " 'second',\n",
       " 'shot_body_part_id',\n",
       " 'shot_body_part_name',\n",
       " 'shot_end_location',\n",
       " 'shot_first_time',\n",
       " 'shot_follows_dribble',\n",
       " 'shot_freeze_frame',\n",
       " 'shot_key_pass_id',\n",
       " 'shot_outcome_id',\n",
       " 'shot_outcome_name',\n",
       " 'shot_statsbomb_xg',\n",
       " 'shot_technique_id',\n",
       " 'shot_technique_name',\n",
       " 'shot_type_id',\n",
       " 'shot_type_name',\n",
       " 'substitution_outcome_id',\n",
       " 'substitution_outcome_name',\n",
       " 'substitution_replacement_id',\n",
       " 'substitution_replacement_name',\n",
       " 'tactics_formation',\n",
       " 'tactics_lineup',\n",
       " 'team_id',\n",
       " 'team_name',\n",
       " 'timestamp',\n",
       " 'type_id',\n",
       " 'type_name',\n",
       " 'under_pressure'}"
      ]
     },
     "execution_count": 234,
     "metadata": {},
     "output_type": "execute_result"
    }
   ],
   "source": [
    "set_all_keys"
   ]
  },
  {
   "cell_type": "markdown",
   "metadata": {},
   "source": [
    "## Passes"
   ]
  },
  {
   "cell_type": "code",
   "execution_count": 235,
   "metadata": {
    "collapsed": true
   },
   "outputs": [],
   "source": [
    "pass_values = [\n",
    "    'index', 'duration', 'id', 'period','minute','second', 'player_name',\n",
    "    'position_name',\n",
    "    'possession_team_name', 'possession', 'possession_team_id',\n",
    "    'related_events', 'under_pressure', 'location', \n",
    "    # Pass details\n",
    "    'pass_aerial_won', 'pass_angle', 'pass_assisted_shot_id', 'pass_backheel', \n",
    "    'pass_body_part_id', 'pass_body_part_name', 'pass_cross', 'pass_deflected', \n",
    "    'pass_end_location', 'pass_goal_assist', 'pass_height_id', 'pass_height_name', \n",
    "    'pass_length', 'pass_outcome_id', 'pass_outcome_name', 'pass_recipient_id', \n",
    "    'pass_recipient_name', 'pass_shot_assist', 'pass_switch', 'pass_through_ball',\n",
    "    'pass_type_id', 'pass_type_name']"
   ]
  },
  {
   "cell_type": "code",
   "execution_count": 236,
   "metadata": {
    "collapsed": false
   },
   "outputs": [],
   "source": [
    "df_passes = df_events.loc[df_events['type_name'].isin(['Pass']), pass_values]"
   ]
  },
  {
   "cell_type": "code",
   "execution_count": 237,
   "metadata": {
    "collapsed": false
   },
   "outputs": [
    {
     "data": {
      "text/plain": [
       "Incomplete      216\n",
       "Out              23\n",
       "Pass Offside      4\n",
       "Unknown           3\n",
       "Name: pass_outcome_name, dtype: int64"
      ]
     },
     "execution_count": 237,
     "metadata": {},
     "output_type": "execute_result"
    }
   ],
   "source": [
    "df_passes['pass_outcome_name'].value_counts()"
   ]
  },
  {
   "cell_type": "code",
   "execution_count": 238,
   "metadata": {
    "collapsed": false
   },
   "outputs": [
    {
     "data": {
      "text/plain": [
       "True    214\n",
       "Name: under_pressure, dtype: int64"
      ]
     },
     "execution_count": 238,
     "metadata": {},
     "output_type": "execute_result"
    }
   ],
   "source": [
    "df_passes.under_pressure.value_counts()"
   ]
  },
  {
   "cell_type": "markdown",
   "metadata": {},
   "source": [
    "# Shots"
   ]
  },
  {
   "cell_type": "code",
   "execution_count": 244,
   "metadata": {
    "collapsed": true
   },
   "outputs": [],
   "source": [
    "shot_values = [\n",
    "    'index', 'duration', 'id', 'period','minute','second', 'player_name',\n",
    "    'position_name', 'possession_team_name', 'possession', 'possession_team_id',\n",
    "    'related_events', 'under_pressure', 'location', \n",
    "    # Shot details\n",
    "    'shot_body_part_id', 'shot_body_part_name', 'shot_end_location',\n",
    "    'shot_first_time', 'shot_follows_dribble', 'shot_freeze_frame',\n",
    "    'shot_key_pass_id', 'shot_outcome_id', 'shot_outcome_name', \n",
    "    'shot_statsbomb_xg', 'shot_technique_id', 'shot_technique_name',\n",
    "    'shot_type_id', 'shot_type_name',\n",
    "]"
   ]
  },
  {
   "cell_type": "code",
   "execution_count": 245,
   "metadata": {
    "collapsed": true
   },
   "outputs": [],
   "source": [
    "df_shots = df_events.loc[df_events['type_name'].isin(['Shot']), shot_values]"
   ]
  },
  {
   "cell_type": "code",
   "execution_count": 248,
   "metadata": {
    "collapsed": false
   },
   "outputs": [
    {
     "data": {
      "text/plain": [
       "Blocked    12\n",
       "Off T       9\n",
       "Saved       8\n",
       "Goal        4\n",
       "Wayward     1\n",
       "Name: shot_outcome_name, dtype: int64"
      ]
     },
     "execution_count": 248,
     "metadata": {},
     "output_type": "execute_result"
    }
   ],
   "source": [
    "df_shots['shot_outcome_name'].value_counts()"
   ]
  },
  {
   "cell_type": "markdown",
   "metadata": {},
   "source": [
    "# Plotting"
   ]
  },
  {
   "cell_type": "code",
   "execution_count": null,
   "metadata": {
    "collapsed": true
   },
   "outputs": [],
   "source": []
  },
  {
   "cell_type": "code",
   "execution_count": null,
   "metadata": {
    "collapsed": true
   },
   "outputs": [],
   "source": []
  },
  {
   "cell_type": "markdown",
   "metadata": {},
   "source": [
    "# Plotting"
   ]
  },
  {
   "cell_type": "code",
   "execution_count": null,
   "metadata": {
    "collapsed": true
   },
   "outputs": [],
   "source": [
    "import numpy as np\n",
    "def getArrow(start, end, color, qualifier=None):\n",
    "    x = start[0]\n",
    "    y = start[1]\n",
    "    dx = end[0] - start[0]\n",
    "    dy = end[1] - start[1]\n",
    "    if color == qualifier:\n",
    "        color = 'b'\n",
    "    else:\n",
    "        color = 'r'\n",
    "    return x, y, dx, dy, color"
   ]
  },
  {
   "cell_type": "code",
   "execution_count": 242,
   "metadata": {
    "collapsed": true
   },
   "outputs": [],
   "source": [
    "import pandas as pd\n",
    "import numpy as np\n",
    "import matplotlib.pyplot as plt\n",
    "import matplotlib.lines as lines\n",
    "from matplotlib.patches import Arc\n",
    "import seaborn as sns\n",
    "\n",
    "%matplotlib inline"
   ]
  },
  {
   "cell_type": "code",
   "execution_count": null,
   "metadata": {
    "collapsed": true
   },
   "outputs": [],
   "source": []
  },
  {
   "cell_type": "code",
   "execution_count": 257,
   "metadata": {
    "collapsed": false
   },
   "outputs": [
    {
     "data": {
      "image/png": "[encoded data removed]",
      "text/plain": [
       "<matplotlib.figure.Figure at 0x14470b496a0>"
      ]
     },
     "metadata": {},
     "output_type": "display_data"
    }
   ],
   "source": [
    "#Create figure\n",
    "fig=plt.figure()\n",
    "fig.set_size_inches(7, 5)\n",
    "ax=fig.add_subplot(1,1,1)\n",
    "\n",
    "#Pitch Outline & Centre Line\n",
    "plt.plot([0,0],[0,80], color=\"black\")\n",
    "plt.plot([0,120],[80,80], color=\"black\")\n",
    "plt.plot([120,120],[80,0], color=\"black\")\n",
    "plt.plot([120,0],[0,0], color=\"black\")\n",
    "plt.plot([60,60],[0,80], color=\"black\")\n",
    "\n",
    "#Left Penalty Area\n",
    "plt.plot([18,18],[62,18],color=\"black\")\n",
    "plt.plot([0,18],[62,62],color=\"black\")\n",
    "plt.plot([18,0],[18,18],color=\"black\")\n",
    "\n",
    "#Right Penalty Area\n",
    "plt.plot([120,102],[62,62],color=\"black\")\n",
    "plt.plot([102,102],[62,18],color=\"black\")\n",
    "plt.plot([102,120],[18,18],color=\"black\")\n",
    "\n",
    "#Left 6-yard Box\n",
    "plt.plot([0,6],[50,50],color=\"black\")\n",
    "plt.plot([6,6],[50,30],color=\"black\")\n",
    "plt.plot([6,0],[30,30],color=\"black\")\n",
    "\n",
    "#Right 6-yard Box\n",
    "plt.plot([120,114],[50,50],color=\"black\")\n",
    "plt.plot([114,114],[50,30],color=\"black\")\n",
    "plt.plot([114,120],[30,30],color=\"black\")\n",
    "\n",
    "# Left Goal\n",
    "plt.plot([0,-2],[44,44],color=\"black\")\n",
    "plt.plot([-2,-2],[44,36],color=\"black\")\n",
    "plt.plot([-2,0],[36,36],color=\"black\")\n",
    "\n",
    "# Right Goal\n",
    "plt.plot([120,122],[44,44],color=\"black\")\n",
    "plt.plot([122,122],[44,36],color=\"black\")\n",
    "plt.plot([122,120],[36,36],color=\"black\")\n",
    "\n",
    "#Prepare Circles\n",
    "centreCircle = plt.Circle((60,40),10,color=\"black\",fill=False, lw=2)\n",
    "centreSpot = plt.Circle((60,40),0.8,color=\"black\")\n",
    "leftPenSpot = plt.Circle((12,40),0.8,color=\"black\")\n",
    "rightPenSpot = plt.Circle((108,40),0.8,color=\"black\")\n",
    "\n",
    "#Draw Circles\n",
    "ax.add_patch(centreCircle)\n",
    "ax.add_patch(centreSpot)\n",
    "ax.add_patch(leftPenSpot)\n",
    "ax.add_patch(rightPenSpot)\n",
    "\n",
    "#Prepare Arcs\n",
    "leftArc = Arc((12,40),height=20,width=20,angle=0,theta1=310,theta2=50,color=\"black\",lw=2)\n",
    "rightArc = Arc((108,40),height=20,width=20,angle=0,theta1=130,theta2=230,color=\"black\",lw=2)\n",
    "\n",
    "#Draw Arcs\n",
    "ax.add_patch(leftArc)\n",
    "ax.add_patch(rightArc)\n",
    "\n",
    "#Tidy Axes\n",
    "plt.axis('off')\n",
    "\n",
    "# Pass map\n",
    "#for line in df_passes[['location', 'pass_end_location', 'pass_outcome_name']].iterrows():\n",
    "#    x,y,dx,dy,c = getArrow(line[1][0], line[1][1], line[1][2], 'None')\n",
    "#    ax.arrow(x, y, dx, dy, head_width=1, head_length=1, fc=c, ec=c)\n",
    "\n",
    "# Shot map\n",
    "for shot in df_shots[['location', 'shot_end_location', 'shot_outcome_name']].iterrows():\n",
    "    x,y,dx,dy,c = getArrow(shot[1][0], shot[1][1], shot[1][2], 'Goal')\n",
    "    ax.arrow(x, y, dx, dy, head_width=1, head_length=1, fc=c, ec=c)    \n",
    "    \n",
    "#sns.regplot(df_shot[\"x\"],df_shot[\"y\"], fit_reg=False)#, shade=True,n_levels=50)\n",
    "#team1 = df_shot[df_shot.team == 'Chelsea LFC']\n",
    "#team2 = df_shot[df_shot.team != 'Chelsea LFC']\n",
    "\n",
    "#sns.kdeplot(team1[\"x\"], team1[\"y\"], shade=False, shade_lowest=False, n_levels=50, cmap=\"Reds\", ax=ax)\n",
    "#sns.kdeplot(team2[\"x\"], team2[\"y\"], shade=False, shade_lowest=False, n_levels=50, cmap=\"Blues\", ax=ax)\n",
    "#sns.regplot(team1[\"x\"], team1[\"y\"], fit_reg=False, color=\"red\", ax=ax)\n",
    "#sns.regplot(team2[\"x\"], team2[\"y\"], fit_reg=False, color=\"blue\", ax=ax)\n",
    "\n",
    "plt.ylim(-5, 85)\n",
    "plt.xlim(-5, 125)\n",
    "\n",
    "\n",
    "#Display Pitch\n",
    "plt.show()"
   ]
  }
 ],
 "metadata": {
  "kernelspec": {
   "display_name": "Python 3",
   "language": "python",
   "name": "python3"
  },
  "language_info": {
   "codemirror_mode": {
    "name": "ipython",
    "version": 3
   },
   "file_extension": ".py",
   "mimetype": "text/x-python",
   "name": "python",
   "nbconvert_exporter": "python",
   "pygments_lexer": "ipython3",
   "version": "3.6.0"
  }
 },
 "nbformat": 4,
 "nbformat_minor": 2
}
