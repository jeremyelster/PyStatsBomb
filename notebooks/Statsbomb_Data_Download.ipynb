{
 "cells": [
  {
   "cell_type": "markdown",
   "metadata": {},
   "source": [
    "# Downloading Data and Brief Introduction to Some Vizualizations\n",
    "\n",
    "In this example, we will get world cup data. From the statsbomb [Competition List](https://github.com/statsbomb/open-data/blob/master/data/competitions.json) we see that the world cup data is given competition_id=43"
   ]
  },
  {
   "cell_type": "markdown",
   "metadata": {},
   "source": [
    "## Import Packages"
   ]
  },
  {
   "cell_type": "code",
   "execution_count": 1,
   "metadata": {
    "collapsed": true
   },
   "outputs": [],
   "source": [
    "%load_ext autoreload\n",
    "\n",
    "%autoreload 2"
   ]
  },
  {
   "cell_type": "code",
   "execution_count": 2,
   "metadata": {},
   "outputs": [],
   "source": [
    "import os, sys\n",
    "# We have to append the parent folder because we are running this from inside notebook\n",
    "sys.path.append(\"../\")\n",
    "import pystatsbomb as sb\n",
    "from pystatsbomb.plotting import plotpitch, plotpitch_bokeh\n",
    "from pystatsbomb.plotting import pass_rose, getArrow\n",
    "import datetime\n",
    "import pandas as pd\n",
    "import numpy as np\n",
    "import matplotlib.pyplot as plt\n",
    "import seaborn as sns\n",
    "from bokeh.models import Arrow, OpenHead, Label\n",
    "from bokeh.io import show, output_notebook\n",
    "pd.options.mode.chained_assignment = None  # default='warn'\n",
    "%matplotlib inline"
   ]
  },
  {
   "cell_type": "code",
   "execution_count": 3,
   "metadata": {},
   "outputs": [
    {
     "data": {
      "text/html": [
       "\n",
       "    <div class=\"bk-root\">\n",
       "        <a href=\"https://bokeh.pydata.org\" target=\"_blank\" class=\"bk-logo bk-logo-small bk-logo-notebook\"></a>\n",
       "        <span id=\"1001\">Loading BokehJS ...</span>\n",
       "    </div>"
      ]
     },
     "metadata": {},
     "output_type": "display_data"
    },
    {
     "data": {
      "application/javascript": [
       "\n",
       "(function(root) {\n",
       "  function now() {\n",
       "    return new Date();\n",
       "  }\n",
       "\n",
       "  var force = true;\n",
       "\n",
       "  if (typeof (root._bokeh_onload_callbacks) === \"undefined\" || force === true) {\n",
       "    root._bokeh_onload_callbacks = [];\n",
       "    root._bokeh_is_loading = undefined;\n",
       "  }\n",
       "\n",
       "  var JS_MIME_TYPE = 'application/javascript';\n",
       "  var HTML_MIME_TYPE = 'text/html';\n",
       "  var EXEC_MIME_TYPE = 'application/vnd.bokehjs_exec.v0+json';\n",
       "  var CLASS_NAME = 'output_bokeh rendered_html';\n",
       "\n",
       "  /**\n",
       "   * Render data to the DOM node\n",
       "   */\n",
       "  function render(props, node) {\n",
       "    var script = document.createElement(\"script\");\n",
       "    node.appendChild(script);\n",
       "  }\n",
       "\n",
       "  /**\n",
       "   * Handle when an output is cleared or removed\n",
       "   */\n",
       "  function handleClearOutput(event, handle) {\n",
       "    var cell = handle.cell;\n",
       "\n",
       "    var id = cell.output_area._bokeh_element_id;\n",
       "    var server_id = cell.output_area._bokeh_server_id;\n",
       "    // Clean up Bokeh references\n",
       "    if (id != null && id in Bokeh.index) {\n",
       "      Bokeh.index[id].model.document.clear();\n",
       "      delete Bokeh.index[id];\n",
       "    }\n",
       "\n",
       "    if (server_id !== undefined) {\n",
       "      // Clean up Bokeh references\n",
       "      var cmd = \"from bokeh.io.state import curstate; print(curstate().uuid_to_server['\" + server_id + \"'].get_sessions()[0].document.roots[0]._id)\";\n",
       "      cell.notebook.kernel.execute(cmd, {\n",
       "        iopub: {\n",
       "          output: function(msg) {\n",
       "            var id = msg.content.text.trim();\n",
       "            if (id in Bokeh.index) {\n",
       "              Bokeh.index[id].model.document.clear();\n",
       "              delete Bokeh.index[id];\n",
       "            }\n",
       "          }\n",
       "        }\n",
       "      });\n",
       "      // Destroy server and session\n",
       "      var cmd = \"import bokeh.io.notebook as ion; ion.destroy_server('\" + server_id + \"')\";\n",
       "      cell.notebook.kernel.execute(cmd);\n",
       "    }\n",
       "  }\n",
       "\n",
       "  /**\n",
       "   * Handle when a new output is added\n",
       "   */\n",
       "  function handleAddOutput(event, handle) {\n",
       "    var output_area = handle.output_area;\n",
       "    var output = handle.output;\n",
       "\n",
       "    // limit handleAddOutput to display_data with EXEC_MIME_TYPE content only\n",
       "    if ((output.output_type != \"display_data\") || (!output.data.hasOwnProperty(EXEC_MIME_TYPE))) {\n",
       "      return\n",
       "    }\n",
       "\n",
       "    var toinsert = output_area.element.find(\".\" + CLASS_NAME.split(' ')[0]);\n",
       "\n",
       "    if (output.metadata[EXEC_MIME_TYPE][\"id\"] !== undefined) {\n",
       "      toinsert[toinsert.length - 1].firstChild.textContent = output.data[JS_MIME_TYPE];\n",
       "      // store reference to embed id on output_area\n",
       "      output_area._bokeh_element_id = output.metadata[EXEC_MIME_TYPE][\"id\"];\n",
       "    }\n",
       "    if (output.metadata[EXEC_MIME_TYPE][\"server_id\"] !== undefined) {\n",
       "      var bk_div = document.createElement(\"div\");\n",
       "      bk_div.innerHTML = output.data[HTML_MIME_TYPE];\n",
       "      var script_attrs = bk_div.children[0].attributes;\n",
       "      for (var i = 0; i < script_attrs.length; i++) {\n",
       "        toinsert[toinsert.length - 1].firstChild.setAttribute(script_attrs[i].name, script_attrs[i].value);\n",
       "      }\n",
       "      // store reference to server id on output_area\n",
       "      output_area._bokeh_server_id = output.metadata[EXEC_MIME_TYPE][\"server_id\"];\n",
       "    }\n",
       "  }\n",
       "\n",
       "  function register_renderer(events, OutputArea) {\n",
       "\n",
       "    function append_mime(data, metadata, element) {\n",
       "      // create a DOM node to render to\n",
       "      var toinsert = this.create_output_subarea(\n",
       "        metadata,\n",
       "        CLASS_NAME,\n",
       "        EXEC_MIME_TYPE\n",
       "      );\n",
       "      this.keyboard_manager.register_events(toinsert);\n",
       "      // Render to node\n",
       "      var props = {data: data, metadata: metadata[EXEC_MIME_TYPE]};\n",
       "      render(props, toinsert[toinsert.length - 1]);\n",
       "      element.append(toinsert);\n",
       "      return toinsert\n",
       "    }\n",
       "\n",
       "    /* Handle when an output is cleared or removed */\n",
       "    events.on('clear_output.CodeCell', handleClearOutput);\n",
       "    events.on('delete.Cell', handleClearOutput);\n",
       "\n",
       "    /* Handle when a new output is added */\n",
       "    events.on('output_added.OutputArea', handleAddOutput);\n",
       "\n",
       "    /**\n",
       "     * Register the mime type and append_mime function with output_area\n",
       "     */\n",
       "    OutputArea.prototype.register_mime_type(EXEC_MIME_TYPE, append_mime, {\n",
       "      /* Is output safe? */\n",
       "      safe: true,\n",
       "      /* Index of renderer in `output_area.display_order` */\n",
       "      index: 0\n",
       "    });\n",
       "  }\n",
       "\n",
       "  // register the mime type if in Jupyter Notebook environment and previously unregistered\n",
       "  if (root.Jupyter !== undefined) {\n",
       "    var events = require('base/js/events');\n",
       "    var OutputArea = require('notebook/js/outputarea').OutputArea;\n",
       "\n",
       "    if (OutputArea.prototype.mime_types().indexOf(EXEC_MIME_TYPE) == -1) {\n",
       "      register_renderer(events, OutputArea);\n",
       "    }\n",
       "  }\n",
       "\n",
       "  \n",
       "  if (typeof (root._bokeh_timeout) === \"undefined\" || force === true) {\n",
       "    root._bokeh_timeout = Date.now() + 5000;\n",
       "    root._bokeh_failed_load = false;\n",
       "  }\n",
       "\n",
       "  var NB_LOAD_WARNING = {'data': {'text/html':\n",
       "     \"<div style='background-color: #fdd'>\\n\"+\n",
       "     \"<p>\\n\"+\n",
       "     \"BokehJS does not appear to have successfully loaded. If loading BokehJS from CDN, this \\n\"+\n",
       "     \"may be due to a slow or bad network connection. Possible fixes:\\n\"+\n",
       "     \"</p>\\n\"+\n",
       "     \"<ul>\\n\"+\n",
       "     \"<li>re-rerun `output_notebook()` to attempt to load from CDN again, or</li>\\n\"+\n",
       "     \"<li>use INLINE resources instead, as so:</li>\\n\"+\n",
       "     \"</ul>\\n\"+\n",
       "     \"<code>\\n\"+\n",
       "     \"from bokeh.resources import INLINE\\n\"+\n",
       "     \"output_notebook(resources=INLINE)\\n\"+\n",
       "     \"</code>\\n\"+\n",
       "     \"</div>\"}};\n",
       "\n",
       "  function display_loaded() {\n",
       "    var el = document.getElementById(\"1001\");\n",
       "    if (el != null) {\n",
       "      el.textContent = \"BokehJS is loading...\";\n",
       "    }\n",
       "    if (root.Bokeh !== undefined) {\n",
       "      if (el != null) {\n",
       "        el.textContent = \"BokehJS \" + root.Bokeh.version + \" successfully loaded.\";\n",
       "      }\n",
       "    } else if (Date.now() < root._bokeh_timeout) {\n",
       "      setTimeout(display_loaded, 100)\n",
       "    }\n",
       "  }\n",
       "\n",
       "\n",
       "  function run_callbacks() {\n",
       "    try {\n",
       "      root._bokeh_onload_callbacks.forEach(function(callback) { callback() });\n",
       "    }\n",
       "    finally {\n",
       "      delete root._bokeh_onload_callbacks\n",
       "    }\n",
       "    console.info(\"Bokeh: all callbacks have finished\");\n",
       "  }\n",
       "\n",
       "  function load_libs(js_urls, callback) {\n",
       "    root._bokeh_onload_callbacks.push(callback);\n",
       "    if (root._bokeh_is_loading > 0) {\n",
       "      console.log(\"Bokeh: BokehJS is being loaded, scheduling callback at\", now());\n",
       "      return null;\n",
       "    }\n",
       "    if (js_urls == null || js_urls.length === 0) {\n",
       "      run_callbacks();\n",
       "      return null;\n",
       "    }\n",
       "    console.log(\"Bokeh: BokehJS not loaded, scheduling load and callback at\", now());\n",
       "    root._bokeh_is_loading = js_urls.length;\n",
       "    for (var i = 0; i < js_urls.length; i++) {\n",
       "      var url = js_urls[i];\n",
       "      var s = document.createElement('script');\n",
       "      s.src = url;\n",
       "      s.async = false;\n",
       "      s.onreadystatechange = s.onload = function() {\n",
       "        root._bokeh_is_loading--;\n",
       "        if (root._bokeh_is_loading === 0) {\n",
       "          console.log(\"Bokeh: all BokehJS libraries loaded\");\n",
       "          run_callbacks()\n",
       "        }\n",
       "      };\n",
       "      s.onerror = function() {\n",
       "        console.warn(\"failed to load library \" + url);\n",
       "      };\n",
       "      console.log(\"Bokeh: injecting script tag for BokehJS library: \", url);\n",
       "      document.getElementsByTagName(\"head\")[0].appendChild(s);\n",
       "    }\n",
       "  };var element = document.getElementById(\"1001\");\n",
       "  if (element == null) {\n",
       "    console.log(\"Bokeh: ERROR: autoload.js configured with elementid '1001' but no matching script tag was found. \")\n",
       "    return false;\n",
       "  }\n",
       "\n",
       "  var js_urls = [\"https://cdn.pydata.org/bokeh/release/bokeh-1.0.1.min.js\", \"https://cdn.pydata.org/bokeh/release/bokeh-widgets-1.0.1.min.js\", \"https://cdn.pydata.org/bokeh/release/bokeh-tables-1.0.1.min.js\", \"https://cdn.pydata.org/bokeh/release/bokeh-gl-1.0.1.min.js\"];\n",
       "\n",
       "  var inline_js = [\n",
       "    function(Bokeh) {\n",
       "      Bokeh.set_log_level(\"info\");\n",
       "    },\n",
       "    \n",
       "    function(Bokeh) {\n",
       "      \n",
       "    },\n",
       "    function(Bokeh) {\n",
       "      console.log(\"Bokeh: injecting CSS: https://cdn.pydata.org/bokeh/release/bokeh-1.0.1.min.css\");\n",
       "      Bokeh.embed.inject_css(\"https://cdn.pydata.org/bokeh/release/bokeh-1.0.1.min.css\");\n",
       "      console.log(\"Bokeh: injecting CSS: https://cdn.pydata.org/bokeh/release/bokeh-widgets-1.0.1.min.css\");\n",
       "      Bokeh.embed.inject_css(\"https://cdn.pydata.org/bokeh/release/bokeh-widgets-1.0.1.min.css\");\n",
       "      console.log(\"Bokeh: injecting CSS: https://cdn.pydata.org/bokeh/release/bokeh-tables-1.0.1.min.css\");\n",
       "      Bokeh.embed.inject_css(\"https://cdn.pydata.org/bokeh/release/bokeh-tables-1.0.1.min.css\");\n",
       "    }\n",
       "  ];\n",
       "\n",
       "  function run_inline_js() {\n",
       "    \n",
       "    if ((root.Bokeh !== undefined) || (force === true)) {\n",
       "      for (var i = 0; i < inline_js.length; i++) {\n",
       "        inline_js[i].call(root, root.Bokeh);\n",
       "      }if (force === true) {\n",
       "        display_loaded();\n",
       "      }} else if (Date.now() < root._bokeh_timeout) {\n",
       "      setTimeout(run_inline_js, 100);\n",
       "    } else if (!root._bokeh_failed_load) {\n",
       "      console.log(\"Bokeh: BokehJS failed to load within specified timeout.\");\n",
       "      root._bokeh_failed_load = true;\n",
       "    } else if (force !== true) {\n",
       "      var cell = $(document.getElementById(\"1001\")).parents('.cell').data().cell;\n",
       "      cell.output_area.append_execute_result(NB_LOAD_WARNING)\n",
       "    }\n",
       "\n",
       "  }\n",
       "\n",
       "  if (root._bokeh_is_loading === 0) {\n",
       "    console.log(\"Bokeh: BokehJS loaded, going straight to plotting\");\n",
       "    run_inline_js();\n",
       "  } else {\n",
       "    load_libs(js_urls, function() {\n",
       "      console.log(\"Bokeh: BokehJS plotting callback run at\", now());\n",
       "      run_inline_js();\n",
       "    });\n",
       "  }\n",
       "}(window));"
      ],
      "application/vnd.bokehjs_load.v0+json": "\n(function(root) {\n  function now() {\n    return new Date();\n  }\n\n  var force = true;\n\n  if (typeof (root._bokeh_onload_callbacks) === \"undefined\" || force === true) {\n    root._bokeh_onload_callbacks = [];\n    root._bokeh_is_loading = undefined;\n  }\n\n  \n\n  \n  if (typeof (root._bokeh_timeout) === \"undefined\" || force === true) {\n    root._bokeh_timeout = Date.now() + 5000;\n    root._bokeh_failed_load = false;\n  }\n\n  var NB_LOAD_WARNING = {'data': {'text/html':\n     \"<div style='background-color: #fdd'>\\n\"+\n     \"<p>\\n\"+\n     \"BokehJS does not appear to have successfully loaded. If loading BokehJS from CDN, this \\n\"+\n     \"may be due to a slow or bad network connection. Possible fixes:\\n\"+\n     \"</p>\\n\"+\n     \"<ul>\\n\"+\n     \"<li>re-rerun `output_notebook()` to attempt to load from CDN again, or</li>\\n\"+\n     \"<li>use INLINE resources instead, as so:</li>\\n\"+\n     \"</ul>\\n\"+\n     \"<code>\\n\"+\n     \"from bokeh.resources import INLINE\\n\"+\n     \"output_notebook(resources=INLINE)\\n\"+\n     \"</code>\\n\"+\n     \"</div>\"}};\n\n  function display_loaded() {\n    var el = document.getElementById(\"1001\");\n    if (el != null) {\n      el.textContent = \"BokehJS is loading...\";\n    }\n    if (root.Bokeh !== undefined) {\n      if (el != null) {\n        el.textContent = \"BokehJS \" + root.Bokeh.version + \" successfully loaded.\";\n      }\n    } else if (Date.now() < root._bokeh_timeout) {\n      setTimeout(display_loaded, 100)\n    }\n  }\n\n\n  function run_callbacks() {\n    try {\n      root._bokeh_onload_callbacks.forEach(function(callback) { callback() });\n    }\n    finally {\n      delete root._bokeh_onload_callbacks\n    }\n    console.info(\"Bokeh: all callbacks have finished\");\n  }\n\n  function load_libs(js_urls, callback) {\n    root._bokeh_onload_callbacks.push(callback);\n    if (root._bokeh_is_loading > 0) {\n      console.log(\"Bokeh: BokehJS is being loaded, scheduling callback at\", now());\n      return null;\n    }\n    if (js_urls == null || js_urls.length === 0) {\n      run_callbacks();\n      return null;\n    }\n    console.log(\"Bokeh: BokehJS not loaded, scheduling load and callback at\", now());\n    root._bokeh_is_loading = js_urls.length;\n    for (var i = 0; i < js_urls.length; i++) {\n      var url = js_urls[i];\n      var s = document.createElement('script');\n      s.src = url;\n      s.async = false;\n      s.onreadystatechange = s.onload = function() {\n        root._bokeh_is_loading--;\n        if (root._bokeh_is_loading === 0) {\n          console.log(\"Bokeh: all BokehJS libraries loaded\");\n          run_callbacks()\n        }\n      };\n      s.onerror = function() {\n        console.warn(\"failed to load library \" + url);\n      };\n      console.log(\"Bokeh: injecting script tag for BokehJS library: \", url);\n      document.getElementsByTagName(\"head\")[0].appendChild(s);\n    }\n  };var element = document.getElementById(\"1001\");\n  if (element == null) {\n    console.log(\"Bokeh: ERROR: autoload.js configured with elementid '1001' but no matching script tag was found. \")\n    return false;\n  }\n\n  var js_urls = [\"https://cdn.pydata.org/bokeh/release/bokeh-1.0.1.min.js\", \"https://cdn.pydata.org/bokeh/release/bokeh-widgets-1.0.1.min.js\", \"https://cdn.pydata.org/bokeh/release/bokeh-tables-1.0.1.min.js\", \"https://cdn.pydata.org/bokeh/release/bokeh-gl-1.0.1.min.js\"];\n\n  var inline_js = [\n    function(Bokeh) {\n      Bokeh.set_log_level(\"info\");\n    },\n    \n    function(Bokeh) {\n      \n    },\n    function(Bokeh) {\n      console.log(\"Bokeh: injecting CSS: https://cdn.pydata.org/bokeh/release/bokeh-1.0.1.min.css\");\n      Bokeh.embed.inject_css(\"https://cdn.pydata.org/bokeh/release/bokeh-1.0.1.min.css\");\n      console.log(\"Bokeh: injecting CSS: https://cdn.pydata.org/bokeh/release/bokeh-widgets-1.0.1.min.css\");\n      Bokeh.embed.inject_css(\"https://cdn.pydata.org/bokeh/release/bokeh-widgets-1.0.1.min.css\");\n      console.log(\"Bokeh: injecting CSS: https://cdn.pydata.org/bokeh/release/bokeh-tables-1.0.1.min.css\");\n      Bokeh.embed.inject_css(\"https://cdn.pydata.org/bokeh/release/bokeh-tables-1.0.1.min.css\");\n    }\n  ];\n\n  function run_inline_js() {\n    \n    if ((root.Bokeh !== undefined) || (force === true)) {\n      for (var i = 0; i < inline_js.length; i++) {\n        inline_js[i].call(root, root.Bokeh);\n      }if (force === true) {\n        display_loaded();\n      }} else if (Date.now() < root._bokeh_timeout) {\n      setTimeout(run_inline_js, 100);\n    } else if (!root._bokeh_failed_load) {\n      console.log(\"Bokeh: BokehJS failed to load within specified timeout.\");\n      root._bokeh_failed_load = true;\n    } else if (force !== true) {\n      var cell = $(document.getElementById(\"1001\")).parents('.cell').data().cell;\n      cell.output_area.append_execute_result(NB_LOAD_WARNING)\n    }\n\n  }\n\n  if (root._bokeh_is_loading === 0) {\n    console.log(\"Bokeh: BokehJS loaded, going straight to plotting\");\n    run_inline_js();\n  } else {\n    load_libs(js_urls, function() {\n      console.log(\"Bokeh: BokehJS plotting callback run at\", now());\n      run_inline_js();\n    });\n  }\n}(window));"
     },
     "metadata": {},
     "output_type": "display_data"
    }
   ],
   "source": [
    "output_notebook()"
   ]
  },
  {
   "cell_type": "markdown",
   "metadata": {},
   "source": [
    "## Start the client"
   ]
  },
  {
   "cell_type": "code",
   "execution_count": 4,
   "metadata": {},
   "outputs": [
    {
     "name": "stdout",
     "output_type": "stream",
     "text": [
      "[{\"FA Women's Super League\": 37}, {'FIFA World Cup': 43}, {'NWSL': 49}]\n"
     ]
    }
   ],
   "source": [
    "c = sb.Client(local_source_dir=None)\n",
    "c.get_competitions()\n",
    "# Check to see what competitions are returned\n",
    "print([{comp[\"competition_name\"]: comp[\"competition_id\"]}  for comp in c.competitions])"
   ]
  },
  {
   "cell_type": "markdown",
   "metadata": {
    "collapsed": true
   },
   "source": [
    "## Download all the World Cup Data\n",
    "\n",
    "This will store the data inside the class as:\n",
    "\n",
    "* df_matches\n",
    "* df_lineups\n",
    "* df_events"
   ]
  },
  {
   "cell_type": "code",
   "execution_count": 5,
   "metadata": {
    "collapsed": true
   },
   "outputs": [],
   "source": [
    "comp_id = 43  # FIFA World Cup\n",
    "match_ids = [7585]  # Columbia - England\n",
    "deep_lineup_parse = True\n"
   ]
  },
  {
   "cell_type": "code",
   "execution_count": 6,
   "metadata": {},
   "outputs": [
    {
     "name": "stdout",
     "output_type": "stream",
     "text": [
      "Beginning Deep Lineup Parse\n"
     ]
    }
   ],
   "source": [
    "c.get_all_sb_data(\n",
    "    comp_id=comp_id,\n",
    "    match_ids=match_ids,\n",
    "    deep_lineup_parse=deep_lineup_parse,\n",
    "    toPandas=True)"
   ]
  },
  {
   "cell_type": "code",
   "execution_count": 7,
   "metadata": {
    "collapsed": true
   },
   "outputs": [],
   "source": [
    "df_matches = c.df_matches.set_index('match_id')\n",
    "df_lineups = c.df_lineups\n",
    "df_events = c.df_events"
   ]
  },
  {
   "cell_type": "markdown",
   "metadata": {},
   "source": [
    "# Take a Look at One Match\n",
    "\n",
    "Group Stage Round 1: England v Columbia"
   ]
  },
  {
   "cell_type": "code",
   "execution_count": 8,
   "metadata": {
    "collapsed": true
   },
   "outputs": [],
   "source": [
    "match_id = 7585\n",
    "match_lineups = df_lineups.loc[df_lineups[\"match_id\"] == match_id]\n",
    "match_events = df_events.loc[df_events[\"match_id\"] == match_id]"
   ]
  },
  {
   "cell_type": "code",
   "execution_count": 9,
   "metadata": {},
   "outputs": [
    {
     "data": {
      "text/html": [
       "<div>\n",
       "<style scoped>\n",
       "    .dataframe tbody tr th:only-of-type {\n",
       "        vertical-align: middle;\n",
       "    }\n",
       "\n",
       "    .dataframe tbody tr th {\n",
       "        vertical-align: top;\n",
       "    }\n",
       "\n",
       "    .dataframe thead th {\n",
       "        text-align: right;\n",
       "    }\n",
       "</style>\n",
       "<table border=\"1\" class=\"dataframe\">\n",
       "  <thead>\n",
       "    <tr style=\"text-align: right;\">\n",
       "      <th></th>\n",
       "      <th>country_id</th>\n",
       "      <th>country_name</th>\n",
       "      <th>jersey_number</th>\n",
       "      <th>match_id</th>\n",
       "      <th>player_id</th>\n",
       "      <th>player_name</th>\n",
       "      <th>team_id</th>\n",
       "      <th>team_name</th>\n",
       "    </tr>\n",
       "  </thead>\n",
       "  <tbody>\n",
       "    <tr>\n",
       "      <th>1</th>\n",
       "      <td>68</td>\n",
       "      <td>England</td>\n",
       "      <td>20</td>\n",
       "      <td>7585</td>\n",
       "      <td>3094</td>\n",
       "      <td>Bamidele Alli</td>\n",
       "      <td>768</td>\n",
       "      <td>England</td>\n",
       "    </tr>\n",
       "    <tr>\n",
       "      <th>6</th>\n",
       "      <td>68</td>\n",
       "      <td>England</td>\n",
       "      <td>12</td>\n",
       "      <td>7585</td>\n",
       "      <td>3308</td>\n",
       "      <td>Kieran Trippier</td>\n",
       "      <td>768</td>\n",
       "      <td>England</td>\n",
       "    </tr>\n",
       "    <tr>\n",
       "      <th>11</th>\n",
       "      <td>68</td>\n",
       "      <td>England</td>\n",
       "      <td>3</td>\n",
       "      <td>7585</td>\n",
       "      <td>3594</td>\n",
       "      <td>Danny Rose</td>\n",
       "      <td>768</td>\n",
       "      <td>England</td>\n",
       "    </tr>\n",
       "    <tr>\n",
       "      <th>16</th>\n",
       "      <td>49</td>\n",
       "      <td>Colombia</td>\n",
       "      <td>23</td>\n",
       "      <td>7585</td>\n",
       "      <td>3494</td>\n",
       "      <td>Davinson Sánchez Mina</td>\n",
       "      <td>769</td>\n",
       "      <td>Colombia</td>\n",
       "    </tr>\n",
       "    <tr>\n",
       "      <th>21</th>\n",
       "      <td>49</td>\n",
       "      <td>Colombia</td>\n",
       "      <td>7</td>\n",
       "      <td>7585</td>\n",
       "      <td>5688</td>\n",
       "      <td>Carlos Arturo Bacca Ahumada</td>\n",
       "      <td>769</td>\n",
       "      <td>Colombia</td>\n",
       "    </tr>\n",
       "    <tr>\n",
       "      <th>26</th>\n",
       "      <td>49</td>\n",
       "      <td>Colombia</td>\n",
       "      <td>15</td>\n",
       "      <td>7585</td>\n",
       "      <td>6193</td>\n",
       "      <td>Andrés Mateus Uribe Villa</td>\n",
       "      <td>769</td>\n",
       "      <td>Colombia</td>\n",
       "    </tr>\n",
       "  </tbody>\n",
       "</table>\n",
       "</div>"
      ],
      "text/plain": [
       "    country_id country_name  jersey_number  match_id  player_id  \\\n",
       "1           68      England             20      7585       3094   \n",
       "6           68      England             12      7585       3308   \n",
       "11          68      England              3      7585       3594   \n",
       "16          49     Colombia             23      7585       3494   \n",
       "21          49     Colombia              7      7585       5688   \n",
       "26          49     Colombia             15      7585       6193   \n",
       "\n",
       "                    player_name  team_id team_name  \n",
       "1                 Bamidele Alli      768   England  \n",
       "6               Kieran Trippier      768   England  \n",
       "11                   Danny Rose      768   England  \n",
       "16        Davinson Sánchez Mina      769  Colombia  \n",
       "21  Carlos Arturo Bacca Ahumada      769  Colombia  \n",
       "26    Andrés Mateus Uribe Villa      769  Colombia  "
      ]
     },
     "execution_count": 9,
     "metadata": {},
     "output_type": "execute_result"
    }
   ],
   "source": [
    "match_lineups.iloc[1:-1:5, :]"
   ]
  },
  {
   "cell_type": "code",
   "execution_count": 10,
   "metadata": {},
   "outputs": [
    {
     "name": "stdout",
     "output_type": "stream",
     "text": [
      "Number of Match Events: 3168\n"
     ]
    }
   ],
   "source": [
    "print(\"Number of Match Events: {}\".format(len(match_events)))"
   ]
  },
  {
   "cell_type": "markdown",
   "metadata": {},
   "source": [
    "# Load Data From Local Folder\n",
    "\n",
    "If you have already downloaded the data from statsbomb, point your client to the folder with the files and run the client. This time we will add the tag \"deep_lineup_parse\" which will add tactical changes, starter data, positions, substitutions, and minutes played to the list of dataframes generated"
   ]
  },
  {
   "cell_type": "code",
   "execution_count": 11,
   "metadata": {},
   "outputs": [
    {
     "name": "stdout",
     "output_type": "stream",
     "text": [
      "[{\"FA Women's Super League\": 37}, {'FIFA World Cup': 43}, {'NWSL': 49}]\n"
     ]
    }
   ],
   "source": [
    "c = sb.Client(local_source_dir=\"../../open-data/data\")\n",
    "c.get_competitions()\n",
    "# Check to see what competitions are returned\n",
    "print([{comp[\"competition_name\"]: comp[\"competition_id\"]}  for comp in c.competitions])"
   ]
  },
  {
   "cell_type": "code",
   "execution_count": 12,
   "metadata": {
    "collapsed": true
   },
   "outputs": [],
   "source": [
    "comp_id = 43  # FIFA World Cup\n",
    "match_ids = [7585]  # Columbia - England\n",
    "deep_lineup_parse = True\n"
   ]
  },
  {
   "cell_type": "code",
   "execution_count": 13,
   "metadata": {},
   "outputs": [
    {
     "name": "stdout",
     "output_type": "stream",
     "text": [
      "Beginning Deep Lineup Parse\n"
     ]
    }
   ],
   "source": [
    "c.get_all_sb_data(\n",
    "    comp_id=comp_id,\n",
    "    match_ids=match_ids,\n",
    "    deep_lineup_parse=deep_lineup_parse,\n",
    "    toPandas=True)"
   ]
  },
  {
   "cell_type": "code",
   "execution_count": 14,
   "metadata": {
    "collapsed": true
   },
   "outputs": [],
   "source": [
    "df_deep_lineups = c.df_deep_lineup\n",
    "df_play_time = c.df_play_time\n",
    "df_positions = c.df_positions"
   ]
  },
  {
   "cell_type": "code",
   "execution_count": 15,
   "metadata": {},
   "outputs": [
    {
     "data": {
      "text/html": [
       "<div>\n",
       "<style scoped>\n",
       "    .dataframe tbody tr th:only-of-type {\n",
       "        vertical-align: middle;\n",
       "    }\n",
       "\n",
       "    .dataframe tbody tr th {\n",
       "        vertical-align: top;\n",
       "    }\n",
       "\n",
       "    .dataframe thead th {\n",
       "        text-align: right;\n",
       "    }\n",
       "</style>\n",
       "<table border=\"1\" class=\"dataframe\">\n",
       "  <thead>\n",
       "    <tr style=\"text-align: right;\">\n",
       "      <th></th>\n",
       "      <th>team_name</th>\n",
       "      <th>player.name</th>\n",
       "      <th>match_id</th>\n",
       "      <th>game_minutes_played</th>\n",
       "      <th>seconds_played</th>\n",
       "      <th>total_minutes_played</th>\n",
       "    </tr>\n",
       "  </thead>\n",
       "  <tbody>\n",
       "    <tr>\n",
       "      <th>4</th>\n",
       "      <td>Colombia</td>\n",
       "      <td>David Ospina Ramírez</td>\n",
       "      <td>7585</td>\n",
       "      <td>121.0</td>\n",
       "      <td>8019.653</td>\n",
       "      <td>133.660883</td>\n",
       "    </tr>\n",
       "    <tr>\n",
       "      <th>11</th>\n",
       "      <td>Colombia</td>\n",
       "      <td>Radamel Falcao García Zárate</td>\n",
       "      <td>7585</td>\n",
       "      <td>121.0</td>\n",
       "      <td>8019.653</td>\n",
       "      <td>133.660883</td>\n",
       "    </tr>\n",
       "    <tr>\n",
       "      <th>19</th>\n",
       "      <td>England</td>\n",
       "      <td>Harry Kane</td>\n",
       "      <td>7585</td>\n",
       "      <td>121.0</td>\n",
       "      <td>8019.600</td>\n",
       "      <td>133.660000</td>\n",
       "    </tr>\n",
       "    <tr>\n",
       "      <th>15</th>\n",
       "      <td>England</td>\n",
       "      <td>Ashley Young</td>\n",
       "      <td>7585</td>\n",
       "      <td>101.0</td>\n",
       "      <td>6755.213</td>\n",
       "      <td>112.586883</td>\n",
       "    </tr>\n",
       "    <tr>\n",
       "      <th>2</th>\n",
       "      <td>Colombia</td>\n",
       "      <td>Carlos Arturo Bacca Ahumada</td>\n",
       "      <td>7585</td>\n",
       "      <td>60.0</td>\n",
       "      <td>4061.333</td>\n",
       "      <td>67.688883</td>\n",
       "    </tr>\n",
       "    <tr>\n",
       "      <th>10</th>\n",
       "      <td>Colombia</td>\n",
       "      <td>Luis Fernando Muriel Fruto</td>\n",
       "      <td>7585</td>\n",
       "      <td>34.0</td>\n",
       "      <td>2464.653</td>\n",
       "      <td>41.077550</td>\n",
       "    </tr>\n",
       "  </tbody>\n",
       "</table>\n",
       "</div>"
      ],
      "text/plain": [
       "   team_name                   player.name  match_id  game_minutes_played  \\\n",
       "4   Colombia          David Ospina Ramírez      7585                121.0   \n",
       "11  Colombia  Radamel Falcao García Zárate      7585                121.0   \n",
       "19   England                    Harry Kane      7585                121.0   \n",
       "15   England                  Ashley Young      7585                101.0   \n",
       "2   Colombia   Carlos Arturo Bacca Ahumada      7585                 60.0   \n",
       "10  Colombia    Luis Fernando Muriel Fruto      7585                 34.0   \n",
       "\n",
       "    seconds_played  total_minutes_played  \n",
       "4         8019.653            133.660883  \n",
       "11        8019.653            133.660883  \n",
       "19        8019.600            133.660000  \n",
       "15        6755.213            112.586883  \n",
       "2         4061.333             67.688883  \n",
       "10        2464.653             41.077550  "
      ]
     },
     "execution_count": 15,
     "metadata": {},
     "output_type": "execute_result"
    }
   ],
   "source": [
    "df_play_time.groupby([\"team_name\", \"player.name\", \"match_id\"], as_index=False)\\\n",
    "    .sum().sort_values(\"total_minutes_played\", ascending=False).iloc[1:-1:5, :]"
   ]
  },
  {
   "cell_type": "markdown",
   "metadata": {},
   "source": [
    "## Brief Look at Passes"
   ]
  },
  {
   "cell_type": "code",
   "execution_count": 16,
   "metadata": {
    "collapsed": true
   },
   "outputs": [],
   "source": [
    "df_matches = c.df_matches.set_index('match_id')\n",
    "df_lineups = c.df_lineups\n",
    "df_events = c.df_events"
   ]
  },
  {
   "cell_type": "code",
   "execution_count": 17,
   "metadata": {
    "collapsed": true
   },
   "outputs": [],
   "source": [
    "pass_values = [\n",
    "    'index', 'duration', 'id', 'period','minute','second', 'player_name',\n",
    "    'position_name',\n",
    "    'possession_team_name', 'possession', 'possession_team_id',\n",
    "    'related_events', 'under_pressure', 'location', \n",
    "    # Pass details\n",
    "    'pass_aerial_won', 'pass_angle', 'pass_assisted_shot_id', 'pass_backheel', \n",
    "    'pass_body_part_id', 'pass_body_part_name', 'pass_cross', 'pass_deflected', \n",
    "    'pass_end_location', 'pass_goal_assist', 'pass_height_id', 'pass_height_name', \n",
    "    'pass_length', 'pass_outcome_id', 'pass_outcome_name', 'pass_recipient_id', \n",
    "    'pass_recipient_name', 'pass_shot_assist', 'pass_switch', 'pass_through_ball',\n",
    "    'pass_type_id', 'pass_type_name']"
   ]
  },
  {
   "cell_type": "code",
   "execution_count": 18,
   "metadata": {},
   "outputs": [
    {
     "name": "stderr",
     "output_type": "stream",
     "text": [
      "C:\\Program Files\\Anaconda3\\envs\\statsbomb\\lib\\site-packages\\pandas\\core\\indexing.py:1472: FutureWarning: \n",
      "Passing list-likes to .loc or [] with any missing label will raise\n",
      "KeyError in the future, you can use .reindex() as an alternative.\n",
      "\n",
      "See the documentation here:\n",
      "https://pandas.pydata.org/pandas-docs/stable/indexing.html#deprecate-loc-reindex-listlike\n",
      "  return self._getitem_tuple(key)\n"
     ]
    }
   ],
   "source": [
    "df_passes = df_events.loc[df_events['type_name'].isin(['Pass']), pass_values].set_index(\"index\")\n",
    "df_passes['pass_outcome_name'].fillna('Complete', inplace=True)"
   ]
  },
  {
   "cell_type": "code",
   "execution_count": 19,
   "metadata": {},
   "outputs": [
    {
     "data": {
      "text/plain": [
       "(1161, 35)"
      ]
     },
     "execution_count": 19,
     "metadata": {},
     "output_type": "execute_result"
    }
   ],
   "source": [
    "df_passes.shape"
   ]
  },
  {
   "cell_type": "code",
   "execution_count": 20,
   "metadata": {},
   "outputs": [
    {
     "data": {
      "text/html": [
       "<div>\n",
       "<style scoped>\n",
       "    .dataframe tbody tr th:only-of-type {\n",
       "        vertical-align: middle;\n",
       "    }\n",
       "\n",
       "    .dataframe tbody tr th {\n",
       "        vertical-align: top;\n",
       "    }\n",
       "\n",
       "    .dataframe thead th {\n",
       "        text-align: right;\n",
       "    }\n",
       "</style>\n",
       "<table border=\"1\" class=\"dataframe\">\n",
       "  <thead>\n",
       "    <tr style=\"text-align: right;\">\n",
       "      <th>pass_outcome_name</th>\n",
       "      <th>Complete</th>\n",
       "      <th>Incomplete</th>\n",
       "      <th>Out</th>\n",
       "      <th>Pass Offside</th>\n",
       "      <th>Unknown</th>\n",
       "    </tr>\n",
       "    <tr>\n",
       "      <th>possession_team_name</th>\n",
       "      <th></th>\n",
       "      <th></th>\n",
       "      <th></th>\n",
       "      <th></th>\n",
       "      <th></th>\n",
       "    </tr>\n",
       "  </thead>\n",
       "  <tbody>\n",
       "    <tr>\n",
       "      <th>England</th>\n",
       "      <td>483</td>\n",
       "      <td>94</td>\n",
       "      <td>14</td>\n",
       "      <td>2</td>\n",
       "      <td>5</td>\n",
       "    </tr>\n",
       "    <tr>\n",
       "      <th>Colombia</th>\n",
       "      <td>423</td>\n",
       "      <td>121</td>\n",
       "      <td>14</td>\n",
       "      <td>1</td>\n",
       "      <td>4</td>\n",
       "    </tr>\n",
       "  </tbody>\n",
       "</table>\n",
       "</div>"
      ],
      "text/plain": [
       "pass_outcome_name     Complete  Incomplete  Out  Pass Offside  Unknown\n",
       "possession_team_name                                                  \n",
       "England                    483          94   14             2        5\n",
       "Colombia                   423         121   14             1        4"
      ]
     },
     "execution_count": 20,
     "metadata": {},
     "output_type": "execute_result"
    }
   ],
   "source": [
    "pd.crosstab(df_passes[\"possession_team_name\"], df_passes['pass_outcome_name']).sort_values(\"Complete\", ascending=False).head()"
   ]
  },
  {
   "cell_type": "markdown",
   "metadata": {},
   "source": [
    "### Pass Angle"
   ]
  },
  {
   "cell_type": "code",
   "execution_count": 21,
   "metadata": {
    "collapsed": true
   },
   "outputs": [],
   "source": [
    "def pass_direction(x):\n",
    "    \"\"\"According to statsbomb, pass_angle is between 0 (pass ahead) and pi (pass behind). Clockwise\n",
    "    We divide the circle into 4 equal sections. Directions are forward, right, left, behind\"\"\"\n",
    "    \n",
    "    pi_div = np.pi / 4\n",
    "    if (x <= pi_div) & (x >= -pi_div):\n",
    "        return \"Forward\"\n",
    "    elif (x > pi_div) & (x <= 3 * pi_div):\n",
    "        return \"Right\"\n",
    "    elif (x > 3 * pi_div) & (x < -3 * pi_div):\n",
    "        return \"Behind\"\n",
    "    else:\n",
    "        return \"Left\"\n",
    "    \n",
    "def pass_angle_deg(x):\n",
    "    \"\"\"Convert negative angles to positive radians from 0 to 2pi clockwise\"\"\"\n",
    "    if x >= 0:\n",
    "        return x * 180. / np.pi\n",
    "    else:\n",
    "        return (2 * np.pi + x) * 180. / np.pi"
   ]
  },
  {
   "cell_type": "code",
   "execution_count": 22,
   "metadata": {
    "collapsed": true
   },
   "outputs": [],
   "source": [
    "df_passes['pass_direction'] = df_passes['pass_angle'].apply(pass_direction)\n",
    "df_passes['pass_angle_deg'] = df_passes['pass_angle'].apply(pass_angle_deg)"
   ]
  },
  {
   "cell_type": "code",
   "execution_count": 23,
   "metadata": {},
   "outputs": [
    {
     "name": "stderr",
     "output_type": "stream",
     "text": [
      "C:\\Program Files\\Anaconda3\\envs\\statsbomb\\lib\\site-packages\\scipy\\stats\\stats.py:1713: FutureWarning: Using a non-tuple sequence for multidimensional indexing is deprecated; use `arr[tuple(seq)]` instead of `arr[seq]`. In the future this will be interpreted as an array index, `arr[np.array(seq)]`, which will result either in an error or a different result.\n",
      "  return np.add.reduce(sorted[indexer] * weights, axis=axis) / sumval\n"
     ]
    },
    {
     "data": {
      "text/plain": [
       "<seaborn.axisgrid.PairGrid at 0x2204c72ada0>"
      ]
     },
     "execution_count": 23,
     "metadata": {},
     "output_type": "execute_result"
    },
    {
     "data": {
      "image/png": "[encoded data removed]",
      "text/plain": [
       "<Figure size 472.625x360 with 6 Axes>"
      ]
     },
     "metadata": {},
     "output_type": "display_data"
    }
   ],
   "source": [
    "sns.pairplot(df_passes[['pass_length', 'pass_angle', 'pass_outcome_name']], hue='pass_outcome_name')"
   ]
  },
  {
   "cell_type": "markdown",
   "metadata": {},
   "source": [
    "# Pass Rose Plot\n",
    "This is the chart of pass length and frequency for all passes in the dataset"
   ]
  },
  {
   "cell_type": "code",
   "execution_count": 24,
   "metadata": {},
   "outputs": [
    {
     "name": "stdout",
     "output_type": "stream",
     "text": [
      "1161 total observations\n",
      "24\n",
      "24\n"
     ]
    },
    {
     "data": {
      "image/png": "[encoded data removed]",
      "text/plain": [
       "<Figure size 360x360 with 1 Axes>"
      ]
     },
     "metadata": {},
     "output_type": "display_data"
    }
   ],
   "source": [
    "pass_rose(df_passes)"
   ]
  },
  {
   "cell_type": "markdown",
   "metadata": {
    "collapsed": true
   },
   "source": [
    "# Base Map"
   ]
  },
  {
   "cell_type": "code",
   "execution_count": 25,
   "metadata": {},
   "outputs": [
    {
     "data": {
      "text/plain": [
       "(<Figure size 504x360 with 1 Axes>,\n",
       " <matplotlib.axes._subplots.AxesSubplot at 0x2204c3641d0>)"
      ]
     },
     "execution_count": 25,
     "metadata": {},
     "output_type": "execute_result"
    },
    {
     "data": {
      "image/png": "[encoded data removed]",
      "text/plain": [
       "<Figure size 504x360 with 1 Axes>"
      ]
     },
     "metadata": {},
     "output_type": "display_data"
    }
   ],
   "source": [
    "plotpitch()"
   ]
  },
  {
   "cell_type": "code",
   "execution_count": 26,
   "metadata": {},
   "outputs": [
    {
     "data": {
      "text/html": [
       "\n",
       "\n",
       "\n",
       "\n",
       "\n",
       "\n",
       "  <div class=\"bk-root\" id=\"26072671-89b2-4ff4-a1f8-e7a68652912c\"></div>\n"
      ]
     },
     "metadata": {},
     "output_type": "display_data"
    },
    {
     "data": {
      "application/javascript": [
       "(function(root) {\n",
       "  function embed_document(root) {\n",
       "    \n",
       "  var docs_json = {\"fef8ce09-845f-4666-a686-cbf5f8d8cf84\":{\"roots\":{\"references\":[{\"attributes\":{\"background_fill_alpha\":{\"value\":0.1},\"background_fill_color\":{\"value\":\"green\"},\"below\":[{\"id\":\"1013\",\"type\":\"LinearAxis\"}],\"left\":[{\"id\":\"1018\",\"type\":\"LinearAxis\"}],\"plot_height\":400,\"renderers\":[{\"id\":\"1013\",\"type\":\"LinearAxis\"},{\"id\":\"1017\",\"type\":\"Grid\"},{\"id\":\"1018\",\"type\":\"LinearAxis\"},{\"id\":\"1022\",\"type\":\"Grid\"},{\"id\":\"1031\",\"type\":\"BoxAnnotation\"},{\"id\":\"1041\",\"type\":\"GlyphRenderer\"},{\"id\":\"1046\",\"type\":\"GlyphRenderer\"},{\"id\":\"1051\",\"type\":\"GlyphRenderer\"},{\"id\":\"1056\",\"type\":\"GlyphRenderer\"},{\"id\":\"1061\",\"type\":\"GlyphRenderer\"},{\"id\":\"1066\",\"type\":\"GlyphRenderer\"},{\"id\":\"1071\",\"type\":\"GlyphRenderer\"},{\"id\":\"1076\",\"type\":\"GlyphRenderer\"},{\"id\":\"1081\",\"type\":\"GlyphRenderer\"},{\"id\":\"1086\",\"type\":\"GlyphRenderer\"},{\"id\":\"1091\",\"type\":\"GlyphRenderer\"},{\"id\":\"1096\",\"type\":\"GlyphRenderer\"},{\"id\":\"1101\",\"type\":\"GlyphRenderer\"}],\"title\":{\"id\":\"1002\",\"type\":\"Title\"},\"toolbar\":{\"id\":\"1029\",\"type\":\"Toolbar\"},\"x_range\":{\"id\":\"1005\",\"type\":\"Range1d\"},\"x_scale\":{\"id\":\"1009\",\"type\":\"LinearScale\"},\"y_range\":{\"id\":\"1007\",\"type\":\"Range1d\"},\"y_scale\":{\"id\":\"1011\",\"type\":\"LinearScale\"}},\"id\":\"1003\",\"subtype\":\"Figure\",\"type\":\"Plot\"},{\"attributes\":{\"source\":{\"id\":\"1088\",\"type\":\"ColumnDataSource\"}},\"id\":\"1092\",\"type\":\"CDSView\"},{\"attributes\":{\"fill_color\":{\"value\":\"black\"},\"size\":{\"units\":\"screen\",\"value\":5},\"x\":{\"value\":108},\"y\":{\"value\":40}},\"id\":\"1089\",\"type\":\"Circle\"},{\"attributes\":{\"end_angle\":{\"units\":\"deg\",\"value\":53},\"radius\":{\"units\":\"data\",\"value\":10},\"start_angle\":{\"units\":\"deg\",\"value\":307},\"x\":{\"value\":12},\"y\":{\"value\":40}},\"id\":\"1094\",\"type\":\"Arc\"},{\"attributes\":{\"callback\":null,\"data\":{},\"selected\":{\"id\":\"1131\",\"type\":\"Selection\"},\"selection_policy\":{\"id\":\"1130\",\"type\":\"UnionRenderers\"}},\"id\":\"1093\",\"type\":\"ColumnDataSource\"},{\"attributes\":{},\"id\":\"1114\",\"type\":\"UnionRenderers\"},{\"attributes\":{},\"id\":\"1130\",\"type\":\"UnionRenderers\"},{\"attributes\":{},\"id\":\"1123\",\"type\":\"Selection\"},{\"attributes\":{\"end_angle\":{\"units\":\"deg\",\"value\":53},\"line_alpha\":{\"value\":0.1},\"line_color\":{\"value\":\"#1f77b4\"},\"radius\":{\"units\":\"data\",\"value\":10},\"start_angle\":{\"units\":\"deg\",\"value\":307},\"x\":{\"value\":12},\"y\":{\"value\":40}},\"id\":\"1095\",\"type\":\"Arc\"},{\"attributes\":{\"source\":{\"id\":\"1093\",\"type\":\"ColumnDataSource\"}},\"id\":\"1097\",\"type\":\"CDSView\"},{\"attributes\":{\"line_alpha\":{\"value\":0.1},\"line_color\":{\"value\":\"#1f77b4\"},\"xs\":{\"field\":\"xs\"},\"ys\":{\"field\":\"ys\"}},\"id\":\"1070\",\"type\":\"MultiLine\"},{\"attributes\":{},\"id\":\"1124\",\"type\":\"UnionRenderers\"},{\"attributes\":{},\"id\":\"1133\",\"type\":\"Selection\"},{\"attributes\":{\"data_source\":{\"id\":\"1093\",\"type\":\"ColumnDataSource\"},\"glyph\":{\"id\":\"1094\",\"type\":\"Arc\"},\"hover_glyph\":null,\"muted_glyph\":null,\"name\":\"left_pen_circle\",\"nonselection_glyph\":{\"id\":\"1095\",\"type\":\"Arc\"},\"selection_glyph\":null,\"view\":{\"id\":\"1097\",\"type\":\"CDSView\"}},\"id\":\"1096\",\"type\":\"GlyphRenderer\"},{\"attributes\":{\"data_source\":{\"id\":\"1063\",\"type\":\"ColumnDataSource\"},\"glyph\":{\"id\":\"1064\",\"type\":\"MultiLine\"},\"hover_glyph\":null,\"muted_glyph\":null,\"name\":\"left_goal\",\"nonselection_glyph\":{\"id\":\"1065\",\"type\":\"MultiLine\"},\"selection_glyph\":null,\"view\":{\"id\":\"1067\",\"type\":\"CDSView\"}},\"id\":\"1066\",\"type\":\"GlyphRenderer\"},{\"attributes\":{},\"id\":\"1110\",\"type\":\"UnionRenderers\"},{\"attributes\":{\"end_angle\":{\"units\":\"deg\",\"value\":233},\"radius\":{\"units\":\"data\",\"value\":10},\"start_angle\":{\"units\":\"deg\",\"value\":127},\"x\":{\"value\":108},\"y\":{\"value\":40}},\"id\":\"1099\",\"type\":\"Arc\"},{\"attributes\":{\"xs\":{\"field\":\"xs\"},\"ys\":{\"field\":\"ys\"}},\"id\":\"1069\",\"type\":\"MultiLine\"},{\"attributes\":{\"callback\":null,\"data\":{},\"selected\":{\"id\":\"1133\",\"type\":\"Selection\"},\"selection_policy\":{\"id\":\"1132\",\"type\":\"UnionRenderers\"}},\"id\":\"1098\",\"type\":\"ColumnDataSource\"},{\"attributes\":{},\"id\":\"1122\",\"type\":\"UnionRenderers\"},{\"attributes\":{\"source\":{\"id\":\"1068\",\"type\":\"ColumnDataSource\"}},\"id\":\"1072\",\"type\":\"CDSView\"},{\"attributes\":{\"callback\":null,\"data\":{\"xs\":[[120,122],[122,122],[122,120]],\"ys\":[[44,44],[44,36],[36,36]]},\"selected\":{\"id\":\"1121\",\"type\":\"Selection\"},\"selection_policy\":{\"id\":\"1120\",\"type\":\"UnionRenderers\"}},\"id\":\"1068\",\"type\":\"ColumnDataSource\"},{\"attributes\":{\"callback\":null,\"data\":{},\"selected\":{\"id\":\"1123\",\"type\":\"Selection\"},\"selection_policy\":{\"id\":\"1122\",\"type\":\"UnionRenderers\"}},\"id\":\"1073\",\"type\":\"ColumnDataSource\"},{\"attributes\":{},\"id\":\"1115\",\"type\":\"Selection\"},{\"attributes\":{},\"id\":\"1126\",\"type\":\"UnionRenderers\"},{\"attributes\":{\"data_source\":{\"id\":\"1068\",\"type\":\"ColumnDataSource\"},\"glyph\":{\"id\":\"1069\",\"type\":\"MultiLine\"},\"hover_glyph\":null,\"muted_glyph\":null,\"name\":\"right_goal\",\"nonselection_glyph\":{\"id\":\"1070\",\"type\":\"MultiLine\"},\"selection_glyph\":null,\"view\":{\"id\":\"1072\",\"type\":\"CDSView\"}},\"id\":\"1071\",\"type\":\"GlyphRenderer\"},{\"attributes\":{\"end_angle\":{\"units\":\"deg\",\"value\":233},\"line_alpha\":{\"value\":0.1},\"line_color\":{\"value\":\"#1f77b4\"},\"radius\":{\"units\":\"data\",\"value\":10},\"start_angle\":{\"units\":\"deg\",\"value\":127},\"x\":{\"value\":108},\"y\":{\"value\":40}},\"id\":\"1100\",\"type\":\"Arc\"},{\"attributes\":{\"source\":{\"id\":\"1098\",\"type\":\"ColumnDataSource\"}},\"id\":\"1102\",\"type\":\"CDSView\"},{\"attributes\":{\"line_alpha\":{\"value\":0.1},\"line_color\":{\"value\":\"#1f77b4\"},\"xs\":{\"field\":\"xs\"},\"ys\":{\"field\":\"ys\"}},\"id\":\"1065\",\"type\":\"MultiLine\"},{\"attributes\":{\"source\":{\"id\":\"1063\",\"type\":\"ColumnDataSource\"}},\"id\":\"1067\",\"type\":\"CDSView\"},{\"attributes\":{},\"id\":\"1125\",\"type\":\"Selection\"},{\"attributes\":{\"data_source\":{\"id\":\"1098\",\"type\":\"ColumnDataSource\"},\"glyph\":{\"id\":\"1099\",\"type\":\"Arc\"},\"hover_glyph\":null,\"muted_glyph\":null,\"name\":\"right_pen_circle\",\"nonselection_glyph\":{\"id\":\"1100\",\"type\":\"Arc\"},\"selection_glyph\":null,\"view\":{\"id\":\"1102\",\"type\":\"CDSView\"}},\"id\":\"1101\",\"type\":\"GlyphRenderer\"},{\"attributes\":{},\"id\":\"1104\",\"type\":\"BasicTickFormatter\"},{\"attributes\":{},\"id\":\"1108\",\"type\":\"UnionRenderers\"},{\"attributes\":{},\"id\":\"1109\",\"type\":\"Selection\"},{\"attributes\":{},\"id\":\"1127\",\"type\":\"Selection\"},{\"attributes\":{},\"id\":\"1106\",\"type\":\"BasicTickFormatter\"},{\"attributes\":{},\"id\":\"1112\",\"type\":\"UnionRenderers\"},{\"attributes\":{\"fill_alpha\":{\"value\":0},\"fill_color\":{\"value\":\"black\"},\"radius\":{\"units\":\"data\",\"value\":10},\"x\":{\"value\":60},\"y\":{\"value\":40}},\"id\":\"1074\",\"type\":\"Circle\"},{\"attributes\":{},\"id\":\"1113\",\"type\":\"Selection\"},{\"attributes\":{},\"id\":\"1111\",\"type\":\"Selection\"},{\"attributes\":{},\"id\":\"1129\",\"type\":\"Selection\"},{\"attributes\":{},\"id\":\"1132\",\"type\":\"UnionRenderers\"},{\"attributes\":{\"fill_alpha\":{\"value\":0.1},\"fill_color\":{\"value\":\"#1f77b4\"},\"line_alpha\":{\"value\":0.1},\"line_color\":{\"value\":\"#1f77b4\"},\"size\":{\"units\":\"screen\",\"value\":5},\"x\":{\"value\":12},\"y\":{\"value\":40}},\"id\":\"1085\",\"type\":\"Circle\"},{\"attributes\":{},\"id\":\"1116\",\"type\":\"UnionRenderers\"},{\"attributes\":{},\"id\":\"1131\",\"type\":\"Selection\"},{\"attributes\":{},\"id\":\"1128\",\"type\":\"UnionRenderers\"},{\"attributes\":{},\"id\":\"1009\",\"type\":\"LinearScale\"},{\"attributes\":{},\"id\":\"1117\",\"type\":\"Selection\"},{\"attributes\":{},\"id\":\"1119\",\"type\":\"Selection\"},{\"attributes\":{},\"id\":\"1118\",\"type\":\"UnionRenderers\"},{\"attributes\":{},\"id\":\"1120\",\"type\":\"UnionRenderers\"},{\"attributes\":{},\"id\":\"1121\",\"type\":\"Selection\"},{\"attributes\":{\"fill_alpha\":{\"value\":0.1},\"fill_color\":{\"value\":\"#1f77b4\"},\"line_alpha\":{\"value\":0.1},\"line_color\":{\"value\":\"#1f77b4\"},\"radius\":{\"units\":\"data\",\"value\":10},\"x\":{\"value\":60},\"y\":{\"value\":40}},\"id\":\"1075\",\"type\":\"Circle\"},{\"attributes\":{\"callback\":null,\"data\":{\"xs\":[[120,102],[102,102],[102,120]],\"ys\":[[62,62],[62,18],[18,18]]},\"selected\":{\"id\":\"1113\",\"type\":\"Selection\"},\"selection_policy\":{\"id\":\"1112\",\"type\":\"UnionRenderers\"}},\"id\":\"1048\",\"type\":\"ColumnDataSource\"},{\"attributes\":{},\"id\":\"1011\",\"type\":\"LinearScale\"},{\"attributes\":{\"data_source\":{\"id\":\"1058\",\"type\":\"ColumnDataSource\"},\"glyph\":{\"id\":\"1059\",\"type\":\"MultiLine\"},\"hover_glyph\":null,\"muted_glyph\":null,\"name\":\"right_6\",\"nonselection_glyph\":{\"id\":\"1060\",\"type\":\"MultiLine\"},\"selection_glyph\":null,\"view\":{\"id\":\"1062\",\"type\":\"CDSView\"}},\"id\":\"1061\",\"type\":\"GlyphRenderer\"},{\"attributes\":{\"data_source\":{\"id\":\"1073\",\"type\":\"ColumnDataSource\"},\"glyph\":{\"id\":\"1074\",\"type\":\"Circle\"},\"hover_glyph\":null,\"muted_glyph\":null,\"name\":\"center_cirle\",\"nonselection_glyph\":{\"id\":\"1075\",\"type\":\"Circle\"},\"selection_glyph\":null,\"view\":{\"id\":\"1077\",\"type\":\"CDSView\"}},\"id\":\"1076\",\"type\":\"GlyphRenderer\"},{\"attributes\":{\"callback\":null,\"data\":{\"xs\":[[0,-2],[-2,-2],[-2,0]],\"ys\":[[44,44],[44,36],[36,36]]},\"selected\":{\"id\":\"1119\",\"type\":\"Selection\"},\"selection_policy\":{\"id\":\"1118\",\"type\":\"UnionRenderers\"}},\"id\":\"1063\",\"type\":\"ColumnDataSource\"},{\"attributes\":{\"source\":{\"id\":\"1073\",\"type\":\"ColumnDataSource\"}},\"id\":\"1077\",\"type\":\"CDSView\"},{\"attributes\":{},\"id\":\"1028\",\"type\":\"HelpTool\"},{\"attributes\":{\"callback\":null,\"data\":{},\"selected\":{\"id\":\"1125\",\"type\":\"Selection\"},\"selection_policy\":{\"id\":\"1124\",\"type\":\"UnionRenderers\"}},\"id\":\"1078\",\"type\":\"ColumnDataSource\"},{\"attributes\":{\"line_alpha\":{\"value\":0.1},\"line_color\":{\"value\":\"#1f77b4\"},\"xs\":{\"field\":\"xs\"},\"ys\":{\"field\":\"ys\"}},\"id\":\"1060\",\"type\":\"MultiLine\"},{\"attributes\":{\"fill_color\":{\"value\":\"black\"},\"size\":{\"units\":\"screen\",\"value\":5},\"x\":{\"value\":60},\"y\":{\"value\":40}},\"id\":\"1079\",\"type\":\"Circle\"},{\"attributes\":{\"fill_alpha\":{\"value\":0.1},\"fill_color\":{\"value\":\"#1f77b4\"},\"line_alpha\":{\"value\":0.1},\"line_color\":{\"value\":\"#1f77b4\"},\"size\":{\"units\":\"screen\",\"value\":5},\"x\":{\"value\":60},\"y\":{\"value\":40}},\"id\":\"1080\",\"type\":\"Circle\"},{\"attributes\":{},\"id\":\"1027\",\"type\":\"ResetTool\"},{\"attributes\":{\"data_source\":{\"id\":\"1078\",\"type\":\"ColumnDataSource\"},\"glyph\":{\"id\":\"1079\",\"type\":\"Circle\"},\"hover_glyph\":null,\"muted_glyph\":null,\"name\":\"center_dot\",\"nonselection_glyph\":{\"id\":\"1080\",\"type\":\"Circle\"},\"selection_glyph\":null,\"view\":{\"id\":\"1082\",\"type\":\"CDSView\"}},\"id\":\"1081\",\"type\":\"GlyphRenderer\"},{\"attributes\":{\"source\":{\"id\":\"1078\",\"type\":\"ColumnDataSource\"}},\"id\":\"1082\",\"type\":\"CDSView\"},{\"attributes\":{\"source\":{\"id\":\"1048\",\"type\":\"ColumnDataSource\"}},\"id\":\"1052\",\"type\":\"CDSView\"},{\"attributes\":{\"axis_line_color\":{\"value\":null},\"formatter\":{\"id\":\"1104\",\"type\":\"BasicTickFormatter\"},\"major_label_text_font_size\":{\"value\":\"0pt\"},\"major_tick_line_color\":{\"value\":null},\"minor_tick_line_color\":{\"value\":null},\"plot\":{\"id\":\"1003\",\"subtype\":\"Figure\",\"type\":\"Plot\"},\"ticker\":{\"id\":\"1014\",\"type\":\"BasicTicker\"}},\"id\":\"1013\",\"type\":\"LinearAxis\"},{\"attributes\":{},\"id\":\"1019\",\"type\":\"BasicTicker\"},{\"attributes\":{\"callback\":null,\"data\":{\"xs\":[[0,0],[0,120],[120,120],[120,0],[60,60]],\"ys\":[[0,80],[80,80],[80,0],[0,0],[0,80]]},\"selected\":{\"id\":\"1109\",\"type\":\"Selection\"},\"selection_policy\":{\"id\":\"1108\",\"type\":\"UnionRenderers\"}},\"id\":\"1038\",\"type\":\"ColumnDataSource\"},{\"attributes\":{\"plot\":null,\"text\":\"Pitch Baseplot\"},\"id\":\"1002\",\"type\":\"Title\"},{\"attributes\":{\"xs\":{\"field\":\"xs\"},\"ys\":{\"field\":\"ys\"}},\"id\":\"1059\",\"type\":\"MultiLine\"},{\"attributes\":{\"bottom_units\":\"screen\",\"fill_alpha\":{\"value\":0.5},\"fill_color\":{\"value\":\"lightgrey\"},\"left_units\":\"screen\",\"level\":\"overlay\",\"line_alpha\":{\"value\":1.0},\"line_color\":{\"value\":\"black\"},\"line_dash\":[4,4],\"line_width\":{\"value\":2},\"plot\":null,\"render_mode\":\"css\",\"right_units\":\"screen\",\"top_units\":\"screen\"},\"id\":\"1031\",\"type\":\"BoxAnnotation\"},{\"attributes\":{\"data_source\":{\"id\":\"1088\",\"type\":\"ColumnDataSource\"},\"glyph\":{\"id\":\"1089\",\"type\":\"Circle\"},\"hover_glyph\":null,\"muted_glyph\":null,\"name\":\"right_pen_dot\",\"nonselection_glyph\":{\"id\":\"1090\",\"type\":\"Circle\"},\"selection_glyph\":null,\"view\":{\"id\":\"1092\",\"type\":\"CDSView\"}},\"id\":\"1091\",\"type\":\"GlyphRenderer\"},{\"attributes\":{\"data_source\":{\"id\":\"1038\",\"type\":\"ColumnDataSource\"},\"glyph\":{\"id\":\"1039\",\"type\":\"MultiLine\"},\"hover_glyph\":null,\"muted_glyph\":null,\"name\":\"outline\",\"nonselection_glyph\":{\"id\":\"1040\",\"type\":\"MultiLine\"},\"selection_glyph\":null,\"view\":{\"id\":\"1042\",\"type\":\"CDSView\"}},\"id\":\"1041\",\"type\":\"GlyphRenderer\"},{\"attributes\":{\"fill_color\":{\"value\":\"black\"},\"size\":{\"units\":\"screen\",\"value\":5},\"x\":{\"value\":12},\"y\":{\"value\":40}},\"id\":\"1084\",\"type\":\"Circle\"},{\"attributes\":{\"overlay\":{\"id\":\"1031\",\"type\":\"BoxAnnotation\"}},\"id\":\"1025\",\"type\":\"BoxZoomTool\"},{\"attributes\":{},\"id\":\"1026\",\"type\":\"SaveTool\"},{\"attributes\":{\"source\":{\"id\":\"1043\",\"type\":\"ColumnDataSource\"}},\"id\":\"1047\",\"type\":\"CDSView\"},{\"attributes\":{\"data_source\":{\"id\":\"1083\",\"type\":\"ColumnDataSource\"},\"glyph\":{\"id\":\"1084\",\"type\":\"Circle\"},\"hover_glyph\":null,\"muted_glyph\":null,\"name\":\"left_pen_dot\",\"nonselection_glyph\":{\"id\":\"1085\",\"type\":\"Circle\"},\"selection_glyph\":null,\"view\":{\"id\":\"1087\",\"type\":\"CDSView\"}},\"id\":\"1086\",\"type\":\"GlyphRenderer\"},{\"attributes\":{\"xs\":{\"field\":\"xs\"},\"ys\":{\"field\":\"ys\"}},\"id\":\"1054\",\"type\":\"MultiLine\"},{\"attributes\":{\"source\":{\"id\":\"1038\",\"type\":\"ColumnDataSource\"}},\"id\":\"1042\",\"type\":\"CDSView\"},{\"attributes\":{\"callback\":null,\"data\":{\"xs\":[[18,18],[0,18],[18,0]],\"ys\":[[62,18],[62,62],[18,18]]},\"selected\":{\"id\":\"1111\",\"type\":\"Selection\"},\"selection_policy\":{\"id\":\"1110\",\"type\":\"UnionRenderers\"}},\"id\":\"1043\",\"type\":\"ColumnDataSource\"},{\"attributes\":{\"callback\":null,\"end\":85,\"start\":-5},\"id\":\"1007\",\"type\":\"Range1d\"},{\"attributes\":{\"xs\":{\"field\":\"xs\"},\"ys\":{\"field\":\"ys\"}},\"id\":\"1044\",\"type\":\"MultiLine\"},{\"attributes\":{\"fill_alpha\":{\"value\":0.1},\"fill_color\":{\"value\":\"#1f77b4\"},\"line_alpha\":{\"value\":0.1},\"line_color\":{\"value\":\"#1f77b4\"},\"size\":{\"units\":\"screen\",\"value\":5},\"x\":{\"value\":108},\"y\":{\"value\":40}},\"id\":\"1090\",\"type\":\"Circle\"},{\"attributes\":{\"line_alpha\":{\"value\":0.1},\"line_color\":{\"value\":\"#1f77b4\"},\"xs\":{\"field\":\"xs\"},\"ys\":{\"field\":\"ys\"}},\"id\":\"1045\",\"type\":\"MultiLine\"},{\"attributes\":{\"dimension\":1,\"grid_line_color\":{\"value\":null},\"plot\":{\"id\":\"1003\",\"subtype\":\"Figure\",\"type\":\"Plot\"},\"ticker\":{\"id\":\"1019\",\"type\":\"BasicTicker\"}},\"id\":\"1022\",\"type\":\"Grid\"},{\"attributes\":{\"callback\":null,\"end\":125,\"start\":-5},\"id\":\"1005\",\"type\":\"Range1d\"},{\"attributes\":{\"line_alpha\":{\"value\":0.1},\"line_color\":{\"value\":\"#1f77b4\"},\"xs\":{\"field\":\"xs\"},\"ys\":{\"field\":\"ys\"}},\"id\":\"1055\",\"type\":\"MultiLine\"},{\"attributes\":{\"source\":{\"id\":\"1083\",\"type\":\"ColumnDataSource\"}},\"id\":\"1087\",\"type\":\"CDSView\"},{\"attributes\":{\"callback\":null,\"data\":{},\"selected\":{\"id\":\"1127\",\"type\":\"Selection\"},\"selection_policy\":{\"id\":\"1126\",\"type\":\"UnionRenderers\"}},\"id\":\"1083\",\"type\":\"ColumnDataSource\"},{\"attributes\":{\"callback\":null,\"data\":{},\"selected\":{\"id\":\"1129\",\"type\":\"Selection\"},\"selection_policy\":{\"id\":\"1128\",\"type\":\"UnionRenderers\"}},\"id\":\"1088\",\"type\":\"ColumnDataSource\"},{\"attributes\":{\"data_source\":{\"id\":\"1043\",\"type\":\"ColumnDataSource\"},\"glyph\":{\"id\":\"1044\",\"type\":\"MultiLine\"},\"hover_glyph\":null,\"muted_glyph\":null,\"name\":\"left_penalty_area\",\"nonselection_glyph\":{\"id\":\"1045\",\"type\":\"MultiLine\"},\"selection_glyph\":null,\"view\":{\"id\":\"1047\",\"type\":\"CDSView\"}},\"id\":\"1046\",\"type\":\"GlyphRenderer\"},{\"attributes\":{\"data_source\":{\"id\":\"1053\",\"type\":\"ColumnDataSource\"},\"glyph\":{\"id\":\"1054\",\"type\":\"MultiLine\"},\"hover_glyph\":null,\"muted_glyph\":null,\"name\":\"left_6\",\"nonselection_glyph\":{\"id\":\"1055\",\"type\":\"MultiLine\"},\"selection_glyph\":null,\"view\":{\"id\":\"1057\",\"type\":\"CDSView\"}},\"id\":\"1056\",\"type\":\"GlyphRenderer\"},{\"attributes\":{},\"id\":\"1024\",\"type\":\"WheelZoomTool\"},{\"attributes\":{\"active_drag\":\"auto\",\"active_inspect\":\"auto\",\"active_multi\":null,\"active_scroll\":\"auto\",\"active_tap\":\"auto\",\"tools\":[{\"id\":\"1023\",\"type\":\"PanTool\"},{\"id\":\"1024\",\"type\":\"WheelZoomTool\"},{\"id\":\"1025\",\"type\":\"BoxZoomTool\"},{\"id\":\"1026\",\"type\":\"SaveTool\"},{\"id\":\"1027\",\"type\":\"ResetTool\"},{\"id\":\"1028\",\"type\":\"HelpTool\"}]},\"id\":\"1029\",\"type\":\"Toolbar\"},{\"attributes\":{\"xs\":{\"field\":\"xs\"},\"ys\":{\"field\":\"ys\"}},\"id\":\"1049\",\"type\":\"MultiLine\"},{\"attributes\":{\"source\":{\"id\":\"1053\",\"type\":\"ColumnDataSource\"}},\"id\":\"1057\",\"type\":\"CDSView\"},{\"attributes\":{},\"id\":\"1023\",\"type\":\"PanTool\"},{\"attributes\":{\"line_alpha\":{\"value\":0.1},\"line_color\":{\"value\":\"#1f77b4\"},\"xs\":{\"field\":\"xs\"},\"ys\":{\"field\":\"ys\"}},\"id\":\"1050\",\"type\":\"MultiLine\"},{\"attributes\":{\"callback\":null,\"data\":{\"xs\":[[120,114],[114,114],[114,120]],\"ys\":[[50,50],[50,30],[30,30]]},\"selected\":{\"id\":\"1117\",\"type\":\"Selection\"},\"selection_policy\":{\"id\":\"1116\",\"type\":\"UnionRenderers\"}},\"id\":\"1058\",\"type\":\"ColumnDataSource\"},{\"attributes\":{\"xs\":{\"field\":\"xs\"},\"ys\":{\"field\":\"ys\"}},\"id\":\"1039\",\"type\":\"MultiLine\"},{\"attributes\":{\"line_alpha\":{\"value\":0.1},\"line_color\":{\"value\":\"#1f77b4\"},\"xs\":{\"field\":\"xs\"},\"ys\":{\"field\":\"ys\"}},\"id\":\"1040\",\"type\":\"MultiLine\"},{\"attributes\":{\"axis_line_color\":{\"value\":null},\"formatter\":{\"id\":\"1106\",\"type\":\"BasicTickFormatter\"},\"major_label_text_font_size\":{\"value\":\"0pt\"},\"major_tick_line_color\":{\"value\":null},\"minor_tick_line_color\":{\"value\":null},\"plot\":{\"id\":\"1003\",\"subtype\":\"Figure\",\"type\":\"Plot\"},\"ticker\":{\"id\":\"1019\",\"type\":\"BasicTicker\"}},\"id\":\"1018\",\"type\":\"LinearAxis\"},{\"attributes\":{\"grid_line_color\":{\"value\":null},\"plot\":{\"id\":\"1003\",\"subtype\":\"Figure\",\"type\":\"Plot\"},\"ticker\":{\"id\":\"1014\",\"type\":\"BasicTicker\"}},\"id\":\"1017\",\"type\":\"Grid\"},{\"attributes\":{\"callback\":null,\"data\":{\"xs\":[[0,6],[6,6],[6,0]],\"ys\":[[50,50],[50,30],[30,30]]},\"selected\":{\"id\":\"1115\",\"type\":\"Selection\"},\"selection_policy\":{\"id\":\"1114\",\"type\":\"UnionRenderers\"}},\"id\":\"1053\",\"type\":\"ColumnDataSource\"},{\"attributes\":{\"xs\":{\"field\":\"xs\"},\"ys\":{\"field\":\"ys\"}},\"id\":\"1064\",\"type\":\"MultiLine\"},{\"attributes\":{},\"id\":\"1014\",\"type\":\"BasicTicker\"},{\"attributes\":{\"data_source\":{\"id\":\"1048\",\"type\":\"ColumnDataSource\"},\"glyph\":{\"id\":\"1049\",\"type\":\"MultiLine\"},\"hover_glyph\":null,\"muted_glyph\":null,\"name\":\"right_penalty_area\",\"nonselection_glyph\":{\"id\":\"1050\",\"type\":\"MultiLine\"},\"selection_glyph\":null,\"view\":{\"id\":\"1052\",\"type\":\"CDSView\"}},\"id\":\"1051\",\"type\":\"GlyphRenderer\"},{\"attributes\":{\"source\":{\"id\":\"1058\",\"type\":\"ColumnDataSource\"}},\"id\":\"1062\",\"type\":\"CDSView\"}],\"root_ids\":[\"1003\"]},\"title\":\"Bokeh Application\",\"version\":\"1.0.1\"}};\n",
       "  var render_items = [{\"docid\":\"fef8ce09-845f-4666-a686-cbf5f8d8cf84\",\"roots\":{\"1003\":\"26072671-89b2-4ff4-a1f8-e7a68652912c\"}}];\n",
       "  root.Bokeh.embed.embed_items_notebook(docs_json, render_items);\n",
       "\n",
       "  }\n",
       "  if (root.Bokeh !== undefined) {\n",
       "    embed_document(root);\n",
       "  } else {\n",
       "    var attempts = 0;\n",
       "    var timer = setInterval(function(root) {\n",
       "      if (root.Bokeh !== undefined) {\n",
       "        embed_document(root);\n",
       "        clearInterval(timer);\n",
       "      }\n",
       "      attempts++;\n",
       "      if (attempts > 100) {\n",
       "        console.log(\"Bokeh: ERROR: Unable to run BokehJS code because BokehJS library is missing\");\n",
       "        clearInterval(timer);\n",
       "      }\n",
       "    }, 10, root)\n",
       "  }\n",
       "})(window);"
      ],
      "application/vnd.bokehjs_exec.v0+json": ""
     },
     "metadata": {
      "application/vnd.bokehjs_exec.v0+json": {
       "id": "1003"
      }
     },
     "output_type": "display_data"
    }
   ],
   "source": [
    "plotpitch_bokeh(display=True)"
   ]
  },
  {
   "cell_type": "markdown",
   "metadata": {},
   "source": [
    "# Possession"
   ]
  },
  {
   "cell_type": "code",
   "execution_count": 27,
   "metadata": {
    "collapsed": true
   },
   "outputs": [],
   "source": [
    "def getPossession(df):\n",
    "    df_pos = df.loc[:, (\"possession_team_name\", \"possession\", \"period\", \"minute\", \"second\")]\n",
    "    df_pos[\"time\"] = 60 * df_pos[\"minute\"] + df_pos[\"second\"]\n",
    "    df_pos = df_pos.loc[df_pos[\"time\"] > 0 ]\n",
    "    df_pos_grp = df_pos.groupby([\"possession_team_name\", \"possession\"]).agg(\n",
    "        {\"time\": [\"min\", \"max\"]})\n",
    "    df_pos_grp[\"time_of_pos\"] = df_pos_grp[\"time\"][\"max\"] - df_pos_grp[\"time\"][\"min\"]\n",
    "    df_pos_grp = df_pos_grp.groupby(\"possession_team_name\").sum() / 60\n",
    "    del df_pos_grp[\"time\"]\n",
    "    \n",
    "    return df_pos_grp"
   ]
  },
  {
   "cell_type": "code",
   "execution_count": 28,
   "metadata": {},
   "outputs": [
    {
     "data": {
      "text/html": [
       "<div>\n",
       "<style scoped>\n",
       "    .dataframe tbody tr th:only-of-type {\n",
       "        vertical-align: middle;\n",
       "    }\n",
       "\n",
       "    .dataframe tbody tr th {\n",
       "        vertical-align: top;\n",
       "    }\n",
       "\n",
       "    .dataframe thead tr th {\n",
       "        text-align: left;\n",
       "    }\n",
       "\n",
       "    .dataframe thead tr:last-of-type th {\n",
       "        text-align: right;\n",
       "    }\n",
       "</style>\n",
       "<table border=\"1\" class=\"dataframe\">\n",
       "  <thead>\n",
       "    <tr>\n",
       "      <th></th>\n",
       "      <th>time_of_pos</th>\n",
       "    </tr>\n",
       "    <tr>\n",
       "      <th></th>\n",
       "      <th></th>\n",
       "    </tr>\n",
       "    <tr>\n",
       "      <th>possession_team_name</th>\n",
       "      <th></th>\n",
       "    </tr>\n",
       "  </thead>\n",
       "  <tbody>\n",
       "    <tr>\n",
       "      <th>Colombia</th>\n",
       "      <td>39.533333</td>\n",
       "    </tr>\n",
       "    <tr>\n",
       "      <th>England</th>\n",
       "      <td>51.500000</td>\n",
       "    </tr>\n",
       "  </tbody>\n",
       "</table>\n",
       "</div>"
      ],
      "text/plain": [
       "                     time_of_pos\n",
       "                                \n",
       "possession_team_name            \n",
       "Colombia               39.533333\n",
       "England                51.500000"
      ]
     },
     "execution_count": 28,
     "metadata": {},
     "output_type": "execute_result"
    }
   ],
   "source": [
    "getPossession(df_events)"
   ]
  },
  {
   "cell_type": "markdown",
   "metadata": {},
   "source": [
    "# Shots"
   ]
  },
  {
   "cell_type": "code",
   "execution_count": 29,
   "metadata": {
    "collapsed": true
   },
   "outputs": [],
   "source": [
    "shot_values = [\n",
    "    'index', 'duration', 'id', 'period','minute','second', 'player_name',\n",
    "    'position_name', 'possession_team_name', 'possession', 'possession_team_id',\n",
    "    'related_events', 'under_pressure', 'location', \n",
    "    # Shot details\n",
    "    'shot_body_part_id', 'shot_body_part_name', 'shot_end_location',\n",
    "    'shot_first_time', 'shot_follows_dribble', 'shot_freeze_frame',\n",
    "    'shot_key_pass_id', 'shot_outcome_id', 'shot_outcome_name', \n",
    "    'shot_statsbomb_xg', 'shot_technique_id', 'shot_technique_name',\n",
    "    'shot_type_id', 'shot_type_name',\n",
    "]\n",
    "\n",
    "df_shots = df_events.loc[df_events['type_name'].isin(['Shot']), shot_values]"
   ]
  },
  {
   "cell_type": "code",
   "execution_count": 30,
   "metadata": {},
   "outputs": [
    {
     "data": {
      "text/plain": [
       "Off T      15\n",
       "Goal        9\n",
       "Blocked     8\n",
       "Saved       6\n",
       "Wayward     2\n",
       "Post        1\n",
       "Name: shot_outcome_name, dtype: int64"
      ]
     },
     "execution_count": 30,
     "metadata": {},
     "output_type": "execute_result"
    }
   ],
   "source": [
    "df_shots['shot_outcome_name'].value_counts()"
   ]
  },
  {
   "cell_type": "markdown",
   "metadata": {},
   "source": [
    "### First 10 shots in matplotlib"
   ]
  },
  {
   "cell_type": "code",
   "execution_count": 31,
   "metadata": {},
   "outputs": [
    {
     "data": {
      "image/png": "[encoded data removed]",
      "text/plain": [
       "<Figure size 504x360 with 1 Axes>"
      ]
     },
     "metadata": {},
     "output_type": "display_data"
    }
   ],
   "source": [
    "fig, ax = plotpitch(display=False)\n",
    "for line in df_shots[['location', 'shot_end_location', 'possession_team_name']].head(10).iterrows():\n",
    "    x,y,dx,dy,c = getArrow(line[1][0], line[1][1], line[1][2], 'England', viz=\"mpl\")\n",
    "    ax.arrow(x, y, dx, dy, head_width=1, head_length=1, fc=c, ec=c)\n",
    "    ax.annotate(line[0], xy=(x, y), xytext=(x+1, y+1))\n",
    "plt.show()"
   ]
  },
  {
   "cell_type": "markdown",
   "metadata": {},
   "source": [
    "### First 10 shots in bokeh"
   ]
  },
  {
   "cell_type": "code",
   "execution_count": 32,
   "metadata": {},
   "outputs": [
    {
     "data": {
      "text/html": [
       "\n",
       "\n",
       "\n",
       "\n",
       "\n",
       "\n",
       "  <div class=\"bk-root\" id=\"26a92e85-0216-45e2-8997-adce1f205043\"></div>\n"
      ]
     },
     "metadata": {},
     "output_type": "display_data"
    },
    {
     "data": {
      "application/javascript": [
       "(function(root) {\n",
       "  function embed_document(root) {\n",
       "    \n",
       "  var docs_json = {\"9caebf5e-7ed2-427a-bdc9-be0baf70e221\":{\"roots\":{\"references\":[{\"attributes\":{\"background_fill_alpha\":{\"value\":0.1},\"background_fill_color\":{\"value\":\"green\"},\"below\":[{\"id\":\"1338\",\"type\":\"LinearAxis\"}],\"left\":[{\"id\":\"1343\",\"type\":\"LinearAxis\"}],\"plot_height\":400,\"renderers\":[{\"id\":\"1338\",\"type\":\"LinearAxis\"},{\"id\":\"1342\",\"type\":\"Grid\"},{\"id\":\"1343\",\"type\":\"LinearAxis\"},{\"id\":\"1347\",\"type\":\"Grid\"},{\"id\":\"1356\",\"type\":\"BoxAnnotation\"},{\"id\":\"1366\",\"type\":\"GlyphRenderer\"},{\"id\":\"1371\",\"type\":\"GlyphRenderer\"},{\"id\":\"1376\",\"type\":\"GlyphRenderer\"},{\"id\":\"1381\",\"type\":\"GlyphRenderer\"},{\"id\":\"1386\",\"type\":\"GlyphRenderer\"},{\"id\":\"1391\",\"type\":\"GlyphRenderer\"},{\"id\":\"1396\",\"type\":\"GlyphRenderer\"},{\"id\":\"1401\",\"type\":\"GlyphRenderer\"},{\"id\":\"1406\",\"type\":\"GlyphRenderer\"},{\"id\":\"1411\",\"type\":\"GlyphRenderer\"},{\"id\":\"1416\",\"type\":\"GlyphRenderer\"},{\"id\":\"1421\",\"type\":\"GlyphRenderer\"},{\"id\":\"1426\",\"type\":\"GlyphRenderer\"},{\"id\":\"1429\",\"type\":\"Arrow\"},{\"id\":\"1431\",\"type\":\"Label\"},{\"id\":\"1433\",\"type\":\"Arrow\"},{\"id\":\"1435\",\"type\":\"Label\"},{\"id\":\"1437\",\"type\":\"Arrow\"},{\"id\":\"1439\",\"type\":\"Label\"},{\"id\":\"1441\",\"type\":\"Arrow\"},{\"id\":\"1443\",\"type\":\"Label\"},{\"id\":\"1445\",\"type\":\"Arrow\"},{\"id\":\"1447\",\"type\":\"Label\"},{\"id\":\"1449\",\"type\":\"Arrow\"},{\"id\":\"1451\",\"type\":\"Label\"},{\"id\":\"1453\",\"type\":\"Arrow\"},{\"id\":\"1455\",\"type\":\"Label\"},{\"id\":\"1457\",\"type\":\"Arrow\"},{\"id\":\"1459\",\"type\":\"Label\"},{\"id\":\"1461\",\"type\":\"Arrow\"},{\"id\":\"1463\",\"type\":\"Label\"},{\"id\":\"1465\",\"type\":\"Arrow\"},{\"id\":\"1467\",\"type\":\"Label\"}],\"title\":{\"id\":\"1327\",\"type\":\"Title\"},\"toolbar\":{\"id\":\"1354\",\"type\":\"Toolbar\"},\"x_range\":{\"id\":\"1330\",\"type\":\"Range1d\"},\"x_scale\":{\"id\":\"1334\",\"type\":\"LinearScale\"},\"y_range\":{\"id\":\"1332\",\"type\":\"Range1d\"},\"y_scale\":{\"id\":\"1336\",\"type\":\"LinearScale\"}},\"id\":\"1328\",\"subtype\":\"Figure\",\"type\":\"Plot\"},{\"attributes\":{\"plot\":null,\"text\":\"Pitch Baseplot\"},\"id\":\"1327\",\"type\":\"Title\"},{\"attributes\":{\"data_source\":{\"id\":\"1413\",\"type\":\"ColumnDataSource\"},\"glyph\":{\"id\":\"1414\",\"type\":\"Circle\"},\"hover_glyph\":null,\"muted_glyph\":null,\"name\":\"right_pen_dot\",\"nonselection_glyph\":{\"id\":\"1415\",\"type\":\"Circle\"},\"selection_glyph\":null,\"view\":{\"id\":\"1417\",\"type\":\"CDSView\"}},\"id\":\"1416\",\"type\":\"GlyphRenderer\"},{\"attributes\":{\"line_color\":{\"value\":\"blue\"},\"plot\":null,\"size\":10},\"id\":\"1452\",\"type\":\"OpenHead\"},{\"attributes\":{\"line_alpha\":{\"value\":0.1},\"line_color\":{\"value\":\"#1f77b4\"},\"xs\":{\"field\":\"xs\"},\"ys\":{\"field\":\"ys\"}},\"id\":\"1370\",\"type\":\"MultiLine\"},{\"attributes\":{\"axis_line_color\":{\"value\":null},\"formatter\":{\"id\":\"1501\",\"type\":\"BasicTickFormatter\"},\"major_label_text_font_size\":{\"value\":\"0pt\"},\"major_tick_line_color\":{\"value\":null},\"minor_tick_line_color\":{\"value\":null},\"plot\":{\"id\":\"1328\",\"subtype\":\"Figure\",\"type\":\"Plot\"},\"ticker\":{\"id\":\"1339\",\"type\":\"BasicTicker\"}},\"id\":\"1338\",\"type\":\"LinearAxis\"},{\"attributes\":{\"end\":{\"id\":\"1448\",\"type\":\"OpenHead\"},\"line_color\":{\"value\":\"red\"},\"plot\":{\"id\":\"1328\",\"subtype\":\"Figure\",\"type\":\"Plot\"},\"source\":null,\"start\":null,\"x_end\":{\"value\":120.0},\"x_start\":{\"value\":90.0},\"y_end\":{\"value\":48.5},\"y_start\":{\"value\":18.0}},\"id\":\"1449\",\"type\":\"Arrow\"},{\"attributes\":{\"line_alpha\":{\"value\":0.1},\"line_color\":{\"value\":\"#1f77b4\"},\"xs\":{\"field\":\"xs\"},\"ys\":{\"field\":\"ys\"}},\"id\":\"1380\",\"type\":\"MultiLine\"},{\"attributes\":{},\"id\":\"1339\",\"type\":\"BasicTicker\"},{\"attributes\":{\"fill_alpha\":{\"value\":0.1},\"fill_color\":{\"value\":\"#1f77b4\"},\"line_alpha\":{\"value\":0.1},\"line_color\":{\"value\":\"#1f77b4\"},\"size\":{\"units\":\"screen\",\"value\":5},\"x\":{\"value\":108},\"y\":{\"value\":40}},\"id\":\"1415\",\"type\":\"Circle\"},{\"attributes\":{\"data_source\":{\"id\":\"1378\",\"type\":\"ColumnDataSource\"},\"glyph\":{\"id\":\"1379\",\"type\":\"MultiLine\"},\"hover_glyph\":null,\"muted_glyph\":null,\"name\":\"left_6\",\"nonselection_glyph\":{\"id\":\"1380\",\"type\":\"MultiLine\"},\"selection_glyph\":null,\"view\":{\"id\":\"1382\",\"type\":\"CDSView\"}},\"id\":\"1381\",\"type\":\"GlyphRenderer\"},{\"attributes\":{\"plot\":{\"id\":\"1328\",\"subtype\":\"Figure\",\"type\":\"Plot\"},\"text\":\"645\",\"text_font_size\":{\"value\":\"10pt\"},\"x\":90.0,\"y\":18.0},\"id\":\"1451\",\"type\":\"Label\"},{\"attributes\":{},\"id\":\"1336\",\"type\":\"LinearScale\"},{\"attributes\":{\"fill_color\":{\"value\":\"black\"},\"size\":{\"units\":\"screen\",\"value\":5},\"x\":{\"value\":108},\"y\":{\"value\":40}},\"id\":\"1414\",\"type\":\"Circle\"},{\"attributes\":{\"line_color\":{\"value\":\"red\"},\"plot\":null,\"size\":10},\"id\":\"1456\",\"type\":\"OpenHead\"},{\"attributes\":{\"source\":{\"id\":\"1413\",\"type\":\"ColumnDataSource\"}},\"id\":\"1417\",\"type\":\"CDSView\"},{\"attributes\":{\"end\":{\"id\":\"1452\",\"type\":\"OpenHead\"},\"line_color\":{\"value\":\"blue\"},\"plot\":{\"id\":\"1328\",\"subtype\":\"Figure\",\"type\":\"Plot\"},\"source\":null,\"start\":null,\"x_end\":{\"value\":103.0},\"x_start\":{\"value\":101.0},\"y_end\":{\"value\":43.0},\"y_start\":{\"value\":46.0}},\"id\":\"1453\",\"type\":\"Arrow\"},{\"attributes\":{\"callback\":null,\"data\":{\"xs\":[[18,18],[0,18],[18,0]],\"ys\":[[62,18],[62,62],[18,18]]},\"selected\":{\"id\":\"1508\",\"type\":\"Selection\"},\"selection_policy\":{\"id\":\"1507\",\"type\":\"UnionRenderers\"}},\"id\":\"1368\",\"type\":\"ColumnDataSource\"},{\"attributes\":{\"callback\":null,\"data\":{},\"selected\":{\"id\":\"1528\",\"type\":\"Selection\"},\"selection_policy\":{\"id\":\"1527\",\"type\":\"UnionRenderers\"}},\"id\":\"1418\",\"type\":\"ColumnDataSource\"},{\"attributes\":{\"plot\":{\"id\":\"1328\",\"subtype\":\"Figure\",\"type\":\"Plot\"},\"text\":\"851\",\"text_font_size\":{\"value\":\"10pt\"},\"x\":101.0,\"y\":46.0},\"id\":\"1455\",\"type\":\"Label\"},{\"attributes\":{\"end_angle\":{\"units\":\"deg\",\"value\":53},\"radius\":{\"units\":\"data\",\"value\":10},\"start_angle\":{\"units\":\"deg\",\"value\":307},\"x\":{\"value\":12},\"y\":{\"value\":40}},\"id\":\"1419\",\"type\":\"Arc\"},{\"attributes\":{\"grid_line_color\":{\"value\":null},\"plot\":{\"id\":\"1328\",\"subtype\":\"Figure\",\"type\":\"Plot\"},\"ticker\":{\"id\":\"1339\",\"type\":\"BasicTicker\"}},\"id\":\"1342\",\"type\":\"Grid\"},{\"attributes\":{\"callback\":null,\"data\":{},\"selected\":{\"id\":\"1526\",\"type\":\"Selection\"},\"selection_policy\":{\"id\":\"1525\",\"type\":\"UnionRenderers\"}},\"id\":\"1413\",\"type\":\"ColumnDataSource\"},{\"attributes\":{\"end_angle\":{\"units\":\"deg\",\"value\":53},\"line_alpha\":{\"value\":0.1},\"line_color\":{\"value\":\"#1f77b4\"},\"radius\":{\"units\":\"data\",\"value\":10},\"start_angle\":{\"units\":\"deg\",\"value\":307},\"x\":{\"value\":12},\"y\":{\"value\":40}},\"id\":\"1420\",\"type\":\"Arc\"},{\"attributes\":{\"line_color\":{\"value\":\"blue\"},\"plot\":null,\"size\":10},\"id\":\"1460\",\"type\":\"OpenHead\"},{\"attributes\":{\"axis_line_color\":{\"value\":null},\"formatter\":{\"id\":\"1503\",\"type\":\"BasicTickFormatter\"},\"major_label_text_font_size\":{\"value\":\"0pt\"},\"major_tick_line_color\":{\"value\":null},\"minor_tick_line_color\":{\"value\":null},\"plot\":{\"id\":\"1328\",\"subtype\":\"Figure\",\"type\":\"Plot\"},\"ticker\":{\"id\":\"1344\",\"type\":\"BasicTicker\"}},\"id\":\"1343\",\"type\":\"LinearAxis\"},{\"attributes\":{\"data_source\":{\"id\":\"1418\",\"type\":\"ColumnDataSource\"},\"glyph\":{\"id\":\"1419\",\"type\":\"Arc\"},\"hover_glyph\":null,\"muted_glyph\":null,\"name\":\"left_pen_circle\",\"nonselection_glyph\":{\"id\":\"1420\",\"type\":\"Arc\"},\"selection_glyph\":null,\"view\":{\"id\":\"1422\",\"type\":\"CDSView\"}},\"id\":\"1421\",\"type\":\"GlyphRenderer\"},{\"attributes\":{\"end\":{\"id\":\"1456\",\"type\":\"OpenHead\"},\"line_color\":{\"value\":\"red\"},\"plot\":{\"id\":\"1328\",\"subtype\":\"Figure\",\"type\":\"Plot\"},\"source\":null,\"start\":null,\"x_end\":{\"value\":120.0},\"x_start\":{\"value\":92.0},\"y_end\":{\"value\":48.0},\"y_start\":{\"value\":49.0}},\"id\":\"1457\",\"type\":\"Arrow\"},{\"attributes\":{\"callback\":null,\"end\":125,\"start\":-5},\"id\":\"1330\",\"type\":\"Range1d\"},{\"attributes\":{\"source\":{\"id\":\"1418\",\"type\":\"ColumnDataSource\"}},\"id\":\"1422\",\"type\":\"CDSView\"},{\"attributes\":{\"callback\":null,\"end\":85,\"start\":-5},\"id\":\"1332\",\"type\":\"Range1d\"},{\"attributes\":{\"plot\":{\"id\":\"1328\",\"subtype\":\"Figure\",\"type\":\"Plot\"},\"text\":\"934\",\"text_font_size\":{\"value\":\"10pt\"},\"x\":92.0,\"y\":49.0},\"id\":\"1459\",\"type\":\"Label\"},{\"attributes\":{\"callback\":null,\"data\":{},\"selected\":{\"id\":\"1530\",\"type\":\"Selection\"},\"selection_policy\":{\"id\":\"1529\",\"type\":\"UnionRenderers\"}},\"id\":\"1423\",\"type\":\"ColumnDataSource\"},{\"attributes\":{\"line_color\":{\"value\":\"blue\"},\"plot\":null,\"size\":10},\"id\":\"1464\",\"type\":\"OpenHead\"},{\"attributes\":{},\"id\":\"1334\",\"type\":\"LinearScale\"},{\"attributes\":{\"xs\":{\"field\":\"xs\"},\"ys\":{\"field\":\"ys\"}},\"id\":\"1379\",\"type\":\"MultiLine\"},{\"attributes\":{\"end_angle\":{\"units\":\"deg\",\"value\":233},\"radius\":{\"units\":\"data\",\"value\":10},\"start_angle\":{\"units\":\"deg\",\"value\":127},\"x\":{\"value\":108},\"y\":{\"value\":40}},\"id\":\"1424\",\"type\":\"Arc\"},{\"attributes\":{\"end\":{\"id\":\"1460\",\"type\":\"OpenHead\"},\"line_color\":{\"value\":\"blue\"},\"plot\":{\"id\":\"1328\",\"subtype\":\"Figure\",\"type\":\"Plot\"},\"source\":null,\"start\":null,\"x_end\":{\"value\":120.0},\"x_start\":{\"value\":99.0},\"y_end\":{\"value\":35.5},\"y_start\":{\"value\":31.0}},\"id\":\"1461\",\"type\":\"Arrow\"},{\"attributes\":{\"callback\":null,\"data\":{\"xs\":[[120,114],[114,114],[114,120]],\"ys\":[[50,50],[50,30],[30,30]]},\"selected\":{\"id\":\"1514\",\"type\":\"Selection\"},\"selection_policy\":{\"id\":\"1513\",\"type\":\"UnionRenderers\"}},\"id\":\"1383\",\"type\":\"ColumnDataSource\"},{\"attributes\":{\"fill_alpha\":{\"value\":0.1},\"fill_color\":{\"value\":\"#1f77b4\"},\"line_alpha\":{\"value\":0.1},\"line_color\":{\"value\":\"#1f77b4\"},\"radius\":{\"units\":\"data\",\"value\":10},\"x\":{\"value\":60},\"y\":{\"value\":40}},\"id\":\"1400\",\"type\":\"Circle\"},{\"attributes\":{\"end_angle\":{\"units\":\"deg\",\"value\":233},\"line_alpha\":{\"value\":0.1},\"line_color\":{\"value\":\"#1f77b4\"},\"radius\":{\"units\":\"data\",\"value\":10},\"start_angle\":{\"units\":\"deg\",\"value\":127},\"x\":{\"value\":108},\"y\":{\"value\":40}},\"id\":\"1425\",\"type\":\"Arc\"},{\"attributes\":{\"data_source\":{\"id\":\"1423\",\"type\":\"ColumnDataSource\"},\"glyph\":{\"id\":\"1424\",\"type\":\"Arc\"},\"hover_glyph\":null,\"muted_glyph\":null,\"name\":\"right_pen_circle\",\"nonselection_glyph\":{\"id\":\"1425\",\"type\":\"Arc\"},\"selection_glyph\":null,\"view\":{\"id\":\"1427\",\"type\":\"CDSView\"}},\"id\":\"1426\",\"type\":\"GlyphRenderer\"},{\"attributes\":{\"plot\":{\"id\":\"1328\",\"subtype\":\"Figure\",\"type\":\"Plot\"},\"text\":\"1133\",\"text_font_size\":{\"value\":\"10pt\"},\"x\":99.0,\"y\":31.0},\"id\":\"1463\",\"type\":\"Label\"},{\"attributes\":{},\"id\":\"1344\",\"type\":\"BasicTicker\"},{\"attributes\":{\"source\":{\"id\":\"1423\",\"type\":\"ColumnDataSource\"}},\"id\":\"1427\",\"type\":\"CDSView\"},{\"attributes\":{\"dimension\":1,\"grid_line_color\":{\"value\":null},\"plot\":{\"id\":\"1328\",\"subtype\":\"Figure\",\"type\":\"Plot\"},\"ticker\":{\"id\":\"1344\",\"type\":\"BasicTicker\"}},\"id\":\"1347\",\"type\":\"Grid\"},{\"attributes\":{\"end\":{\"id\":\"1464\",\"type\":\"OpenHead\"},\"line_color\":{\"value\":\"blue\"},\"plot\":{\"id\":\"1328\",\"subtype\":\"Figure\",\"type\":\"Plot\"},\"source\":null,\"start\":null,\"x_end\":{\"value\":120.0},\"x_start\":{\"value\":94.0},\"y_end\":{\"value\":34.5},\"y_start\":{\"value\":59.0}},\"id\":\"1465\",\"type\":\"Arrow\"},{\"attributes\":{},\"id\":\"1501\",\"type\":\"BasicTickFormatter\"},{\"attributes\":{\"xs\":{\"field\":\"xs\"},\"ys\":{\"field\":\"ys\"}},\"id\":\"1364\",\"type\":\"MultiLine\"},{\"attributes\":{},\"id\":\"1503\",\"type\":\"BasicTickFormatter\"},{\"attributes\":{\"plot\":{\"id\":\"1328\",\"subtype\":\"Figure\",\"type\":\"Plot\"},\"text\":\"1206\",\"text_font_size\":{\"value\":\"10pt\"},\"x\":94.0,\"y\":59.0},\"id\":\"1467\",\"type\":\"Label\"},{\"attributes\":{\"line_alpha\":{\"value\":0.1},\"line_color\":{\"value\":\"#1f77b4\"},\"xs\":{\"field\":\"xs\"},\"ys\":{\"field\":\"ys\"}},\"id\":\"1385\",\"type\":\"MultiLine\"},{\"attributes\":{\"callback\":null,\"data\":{\"xs\":[[0,0],[0,120],[120,120],[120,0],[60,60]],\"ys\":[[0,80],[80,80],[80,0],[0,0],[0,80]]},\"selected\":{\"id\":\"1506\",\"type\":\"Selection\"},\"selection_policy\":{\"id\":\"1505\",\"type\":\"UnionRenderers\"}},\"id\":\"1363\",\"type\":\"ColumnDataSource\"},{\"attributes\":{\"active_drag\":\"auto\",\"active_inspect\":\"auto\",\"active_multi\":null,\"active_scroll\":\"auto\",\"active_tap\":\"auto\",\"tools\":[{\"id\":\"1348\",\"type\":\"PanTool\"},{\"id\":\"1349\",\"type\":\"WheelZoomTool\"},{\"id\":\"1350\",\"type\":\"BoxZoomTool\"},{\"id\":\"1351\",\"type\":\"SaveTool\"},{\"id\":\"1352\",\"type\":\"ResetTool\"},{\"id\":\"1353\",\"type\":\"HelpTool\"}]},\"id\":\"1354\",\"type\":\"Toolbar\"},{\"attributes\":{},\"id\":\"1505\",\"type\":\"UnionRenderers\"},{\"attributes\":{\"line_color\":{\"value\":\"blue\"},\"plot\":null,\"size\":10},\"id\":\"1432\",\"type\":\"OpenHead\"},{\"attributes\":{},\"id\":\"1348\",\"type\":\"PanTool\"},{\"attributes\":{},\"id\":\"1506\",\"type\":\"Selection\"},{\"attributes\":{\"end\":{\"id\":\"1428\",\"type\":\"OpenHead\"},\"line_color\":{\"value\":\"blue\"},\"plot\":{\"id\":\"1328\",\"subtype\":\"Figure\",\"type\":\"Plot\"},\"source\":null,\"start\":null,\"x_end\":{\"value\":120.0},\"x_start\":{\"value\":115.0},\"y_end\":{\"value\":42.0},\"y_start\":{\"value\":18.0}},\"id\":\"1429\",\"type\":\"Arrow\"},{\"attributes\":{},\"id\":\"1349\",\"type\":\"WheelZoomTool\"},{\"attributes\":{},\"id\":\"1507\",\"type\":\"UnionRenderers\"},{\"attributes\":{\"overlay\":{\"id\":\"1356\",\"type\":\"BoxAnnotation\"}},\"id\":\"1350\",\"type\":\"BoxZoomTool\"},{\"attributes\":{},\"id\":\"1508\",\"type\":\"Selection\"},{\"attributes\":{\"data_source\":{\"id\":\"1383\",\"type\":\"ColumnDataSource\"},\"glyph\":{\"id\":\"1384\",\"type\":\"MultiLine\"},\"hover_glyph\":null,\"muted_glyph\":null,\"name\":\"right_6\",\"nonselection_glyph\":{\"id\":\"1385\",\"type\":\"MultiLine\"},\"selection_glyph\":null,\"view\":{\"id\":\"1387\",\"type\":\"CDSView\"}},\"id\":\"1386\",\"type\":\"GlyphRenderer\"},{\"attributes\":{\"plot\":{\"id\":\"1328\",\"subtype\":\"Figure\",\"type\":\"Plot\"},\"text\":\"185\",\"text_font_size\":{\"value\":\"10pt\"},\"x\":115.0,\"y\":18.0},\"id\":\"1431\",\"type\":\"Label\"},{\"attributes\":{},\"id\":\"1351\",\"type\":\"SaveTool\"},{\"attributes\":{},\"id\":\"1509\",\"type\":\"UnionRenderers\"},{\"attributes\":{\"line_color\":{\"value\":\"blue\"},\"plot\":null,\"size\":10},\"id\":\"1436\",\"type\":\"OpenHead\"},{\"attributes\":{},\"id\":\"1352\",\"type\":\"ResetTool\"},{\"attributes\":{},\"id\":\"1353\",\"type\":\"HelpTool\"},{\"attributes\":{},\"id\":\"1510\",\"type\":\"Selection\"},{\"attributes\":{\"end\":{\"id\":\"1432\",\"type\":\"OpenHead\"},\"line_color\":{\"value\":\"blue\"},\"plot\":{\"id\":\"1328\",\"subtype\":\"Figure\",\"type\":\"Plot\"},\"source\":null,\"start\":null,\"x_end\":{\"value\":113.0},\"x_start\":{\"value\":112.0},\"y_end\":{\"value\":53.0},\"y_start\":{\"value\":54.0}},\"id\":\"1433\",\"type\":\"Arrow\"},{\"attributes\":{},\"id\":\"1511\",\"type\":\"UnionRenderers\"},{\"attributes\":{\"bottom_units\":\"screen\",\"fill_alpha\":{\"value\":0.5},\"fill_color\":{\"value\":\"lightgrey\"},\"left_units\":\"screen\",\"level\":\"overlay\",\"line_alpha\":{\"value\":1.0},\"line_color\":{\"value\":\"black\"},\"line_dash\":[4,4],\"line_width\":{\"value\":2},\"plot\":null,\"render_mode\":\"css\",\"right_units\":\"screen\",\"top_units\":\"screen\"},\"id\":\"1356\",\"type\":\"BoxAnnotation\"},{\"attributes\":{\"plot\":{\"id\":\"1328\",\"subtype\":\"Figure\",\"type\":\"Plot\"},\"text\":\"210\",\"text_font_size\":{\"value\":\"10pt\"},\"x\":112.0,\"y\":54.0},\"id\":\"1435\",\"type\":\"Label\"},{\"attributes\":{},\"id\":\"1512\",\"type\":\"Selection\"},{\"attributes\":{\"source\":{\"id\":\"1363\",\"type\":\"ColumnDataSource\"}},\"id\":\"1367\",\"type\":\"CDSView\"},{\"attributes\":{\"line_color\":{\"value\":\"blue\"},\"plot\":null,\"size\":10},\"id\":\"1440\",\"type\":\"OpenHead\"},{\"attributes\":{},\"id\":\"1513\",\"type\":\"UnionRenderers\"},{\"attributes\":{\"end\":{\"id\":\"1436\",\"type\":\"OpenHead\"},\"line_color\":{\"value\":\"blue\"},\"plot\":{\"id\":\"1328\",\"subtype\":\"Figure\",\"type\":\"Plot\"},\"source\":null,\"start\":null,\"x_end\":{\"value\":105.0},\"x_start\":{\"value\":98.0},\"y_end\":{\"value\":37.0},\"y_start\":{\"value\":37.0}},\"id\":\"1437\",\"type\":\"Arrow\"},{\"attributes\":{},\"id\":\"1514\",\"type\":\"Selection\"},{\"attributes\":{\"xs\":{\"field\":\"xs\"},\"ys\":{\"field\":\"ys\"}},\"id\":\"1384\",\"type\":\"MultiLine\"},{\"attributes\":{\"xs\":{\"field\":\"xs\"},\"ys\":{\"field\":\"ys\"}},\"id\":\"1369\",\"type\":\"MultiLine\"},{\"attributes\":{},\"id\":\"1515\",\"type\":\"UnionRenderers\"},{\"attributes\":{\"data_source\":{\"id\":\"1363\",\"type\":\"ColumnDataSource\"},\"glyph\":{\"id\":\"1364\",\"type\":\"MultiLine\"},\"hover_glyph\":null,\"muted_glyph\":null,\"name\":\"outline\",\"nonselection_glyph\":{\"id\":\"1365\",\"type\":\"MultiLine\"},\"selection_glyph\":null,\"view\":{\"id\":\"1367\",\"type\":\"CDSView\"}},\"id\":\"1366\",\"type\":\"GlyphRenderer\"},{\"attributes\":{\"plot\":{\"id\":\"1328\",\"subtype\":\"Figure\",\"type\":\"Plot\"},\"text\":\"345\",\"text_font_size\":{\"value\":\"10pt\"},\"x\":98.0,\"y\":37.0},\"id\":\"1439\",\"type\":\"Label\"},{\"attributes\":{\"source\":{\"id\":\"1378\",\"type\":\"ColumnDataSource\"}},\"id\":\"1382\",\"type\":\"CDSView\"},{\"attributes\":{},\"id\":\"1516\",\"type\":\"Selection\"},{\"attributes\":{\"line_color\":{\"value\":\"red\"},\"plot\":null,\"size\":10},\"id\":\"1444\",\"type\":\"OpenHead\"},{\"attributes\":{},\"id\":\"1517\",\"type\":\"UnionRenderers\"},{\"attributes\":{\"end\":{\"id\":\"1440\",\"type\":\"OpenHead\"},\"line_color\":{\"value\":\"blue\"},\"plot\":{\"id\":\"1328\",\"subtype\":\"Figure\",\"type\":\"Plot\"},\"source\":null,\"start\":null,\"x_end\":{\"value\":120.0},\"x_start\":{\"value\":119.0},\"y_end\":{\"value\":40.4},\"y_start\":{\"value\":36.0}},\"id\":\"1441\",\"type\":\"Arrow\"},{\"attributes\":{},\"id\":\"1518\",\"type\":\"Selection\"},{\"attributes\":{\"line_color\":{\"value\":\"blue\"},\"plot\":null,\"size\":10},\"id\":\"1428\",\"type\":\"OpenHead\"},{\"attributes\":{\"plot\":{\"id\":\"1328\",\"subtype\":\"Figure\",\"type\":\"Plot\"},\"text\":\"433\",\"text_font_size\":{\"value\":\"10pt\"},\"x\":119.0,\"y\":36.0},\"id\":\"1443\",\"type\":\"Label\"},{\"attributes\":{},\"id\":\"1519\",\"type\":\"UnionRenderers\"},{\"attributes\":{\"line_alpha\":{\"value\":0.1},\"line_color\":{\"value\":\"#1f77b4\"},\"xs\":{\"field\":\"xs\"},\"ys\":{\"field\":\"ys\"}},\"id\":\"1365\",\"type\":\"MultiLine\"},{\"attributes\":{\"line_color\":{\"value\":\"red\"},\"plot\":null,\"size\":10},\"id\":\"1448\",\"type\":\"OpenHead\"},{\"attributes\":{},\"id\":\"1520\",\"type\":\"Selection\"},{\"attributes\":{\"end\":{\"id\":\"1444\",\"type\":\"OpenHead\"},\"line_color\":{\"value\":\"red\"},\"plot\":{\"id\":\"1328\",\"subtype\":\"Figure\",\"type\":\"Plot\"},\"source\":null,\"start\":null,\"x_end\":{\"value\":100.0},\"x_start\":{\"value\":97.0},\"y_end\":{\"value\":54.0},\"y_start\":{\"value\":56.0}},\"id\":\"1445\",\"type\":\"Arrow\"},{\"attributes\":{},\"id\":\"1521\",\"type\":\"UnionRenderers\"},{\"attributes\":{},\"id\":\"1522\",\"type\":\"Selection\"},{\"attributes\":{\"plot\":{\"id\":\"1328\",\"subtype\":\"Figure\",\"type\":\"Plot\"},\"text\":\"638\",\"text_font_size\":{\"value\":\"10pt\"},\"x\":97.0,\"y\":56.0},\"id\":\"1447\",\"type\":\"Label\"},{\"attributes\":{\"data_source\":{\"id\":\"1388\",\"type\":\"ColumnDataSource\"},\"glyph\":{\"id\":\"1389\",\"type\":\"MultiLine\"},\"hover_glyph\":null,\"muted_glyph\":null,\"name\":\"left_goal\",\"nonselection_glyph\":{\"id\":\"1390\",\"type\":\"MultiLine\"},\"selection_glyph\":null,\"view\":{\"id\":\"1392\",\"type\":\"CDSView\"}},\"id\":\"1391\",\"type\":\"GlyphRenderer\"},{\"attributes\":{},\"id\":\"1523\",\"type\":\"UnionRenderers\"},{\"attributes\":{\"line_alpha\":{\"value\":0.1},\"line_color\":{\"value\":\"#1f77b4\"},\"xs\":{\"field\":\"xs\"},\"ys\":{\"field\":\"ys\"}},\"id\":\"1375\",\"type\":\"MultiLine\"},{\"attributes\":{},\"id\":\"1524\",\"type\":\"Selection\"},{\"attributes\":{\"source\":{\"id\":\"1383\",\"type\":\"ColumnDataSource\"}},\"id\":\"1387\",\"type\":\"CDSView\"},{\"attributes\":{},\"id\":\"1525\",\"type\":\"UnionRenderers\"},{\"attributes\":{\"data_source\":{\"id\":\"1408\",\"type\":\"ColumnDataSource\"},\"glyph\":{\"id\":\"1409\",\"type\":\"Circle\"},\"hover_glyph\":null,\"muted_glyph\":null,\"name\":\"left_pen_dot\",\"nonselection_glyph\":{\"id\":\"1410\",\"type\":\"Circle\"},\"selection_glyph\":null,\"view\":{\"id\":\"1412\",\"type\":\"CDSView\"}},\"id\":\"1411\",\"type\":\"GlyphRenderer\"},{\"attributes\":{\"fill_color\":{\"value\":\"black\"},\"size\":{\"units\":\"screen\",\"value\":5},\"x\":{\"value\":12},\"y\":{\"value\":40}},\"id\":\"1409\",\"type\":\"Circle\"},{\"attributes\":{},\"id\":\"1526\",\"type\":\"Selection\"},{\"attributes\":{\"fill_alpha\":{\"value\":0.1},\"fill_color\":{\"value\":\"#1f77b4\"},\"line_alpha\":{\"value\":0.1},\"line_color\":{\"value\":\"#1f77b4\"},\"size\":{\"units\":\"screen\",\"value\":5},\"x\":{\"value\":12},\"y\":{\"value\":40}},\"id\":\"1410\",\"type\":\"Circle\"},{\"attributes\":{},\"id\":\"1527\",\"type\":\"UnionRenderers\"},{\"attributes\":{\"fill_alpha\":{\"value\":0},\"fill_color\":{\"value\":\"black\"},\"radius\":{\"units\":\"data\",\"value\":10},\"x\":{\"value\":60},\"y\":{\"value\":40}},\"id\":\"1399\",\"type\":\"Circle\"},{\"attributes\":{},\"id\":\"1528\",\"type\":\"Selection\"},{\"attributes\":{},\"id\":\"1529\",\"type\":\"UnionRenderers\"},{\"attributes\":{\"xs\":{\"field\":\"xs\"},\"ys\":{\"field\":\"ys\"}},\"id\":\"1374\",\"type\":\"MultiLine\"},{\"attributes\":{},\"id\":\"1530\",\"type\":\"Selection\"},{\"attributes\":{\"callback\":null,\"data\":{\"xs\":[[120,102],[102,102],[102,120]],\"ys\":[[62,62],[62,18],[18,18]]},\"selected\":{\"id\":\"1510\",\"type\":\"Selection\"},\"selection_policy\":{\"id\":\"1509\",\"type\":\"UnionRenderers\"}},\"id\":\"1373\",\"type\":\"ColumnDataSource\"},{\"attributes\":{\"source\":{\"id\":\"1388\",\"type\":\"ColumnDataSource\"}},\"id\":\"1392\",\"type\":\"CDSView\"},{\"attributes\":{\"source\":{\"id\":\"1373\",\"type\":\"ColumnDataSource\"}},\"id\":\"1377\",\"type\":\"CDSView\"},{\"attributes\":{\"source\":{\"id\":\"1408\",\"type\":\"ColumnDataSource\"}},\"id\":\"1412\",\"type\":\"CDSView\"},{\"attributes\":{\"data_source\":{\"id\":\"1373\",\"type\":\"ColumnDataSource\"},\"glyph\":{\"id\":\"1374\",\"type\":\"MultiLine\"},\"hover_glyph\":null,\"muted_glyph\":null,\"name\":\"right_penalty_area\",\"nonselection_glyph\":{\"id\":\"1375\",\"type\":\"MultiLine\"},\"selection_glyph\":null,\"view\":{\"id\":\"1377\",\"type\":\"CDSView\"}},\"id\":\"1376\",\"type\":\"GlyphRenderer\"},{\"attributes\":{\"line_alpha\":{\"value\":0.1},\"line_color\":{\"value\":\"#1f77b4\"},\"xs\":{\"field\":\"xs\"},\"ys\":{\"field\":\"ys\"}},\"id\":\"1395\",\"type\":\"MultiLine\"},{\"attributes\":{\"xs\":{\"field\":\"xs\"},\"ys\":{\"field\":\"ys\"}},\"id\":\"1394\",\"type\":\"MultiLine\"},{\"attributes\":{\"callback\":null,\"data\":{\"xs\":[[120,122],[122,122],[122,120]],\"ys\":[[44,44],[44,36],[36,36]]},\"selected\":{\"id\":\"1518\",\"type\":\"Selection\"},\"selection_policy\":{\"id\":\"1517\",\"type\":\"UnionRenderers\"}},\"id\":\"1393\",\"type\":\"ColumnDataSource\"},{\"attributes\":{\"callback\":null,\"data\":{},\"selected\":{\"id\":\"1520\",\"type\":\"Selection\"},\"selection_policy\":{\"id\":\"1519\",\"type\":\"UnionRenderers\"}},\"id\":\"1398\",\"type\":\"ColumnDataSource\"},{\"attributes\":{\"callback\":null,\"data\":{\"xs\":[[0,-2],[-2,-2],[-2,0]],\"ys\":[[44,44],[44,36],[36,36]]},\"selected\":{\"id\":\"1516\",\"type\":\"Selection\"},\"selection_policy\":{\"id\":\"1515\",\"type\":\"UnionRenderers\"}},\"id\":\"1388\",\"type\":\"ColumnDataSource\"},{\"attributes\":{\"data_source\":{\"id\":\"1368\",\"type\":\"ColumnDataSource\"},\"glyph\":{\"id\":\"1369\",\"type\":\"MultiLine\"},\"hover_glyph\":null,\"muted_glyph\":null,\"name\":\"left_penalty_area\",\"nonselection_glyph\":{\"id\":\"1370\",\"type\":\"MultiLine\"},\"selection_glyph\":null,\"view\":{\"id\":\"1372\",\"type\":\"CDSView\"}},\"id\":\"1371\",\"type\":\"GlyphRenderer\"},{\"attributes\":{\"source\":{\"id\":\"1398\",\"type\":\"ColumnDataSource\"}},\"id\":\"1402\",\"type\":\"CDSView\"},{\"attributes\":{\"fill_alpha\":{\"value\":0.1},\"fill_color\":{\"value\":\"#1f77b4\"},\"line_alpha\":{\"value\":0.1},\"line_color\":{\"value\":\"#1f77b4\"},\"size\":{\"units\":\"screen\",\"value\":5},\"x\":{\"value\":60},\"y\":{\"value\":40}},\"id\":\"1405\",\"type\":\"Circle\"},{\"attributes\":{\"data_source\":{\"id\":\"1403\",\"type\":\"ColumnDataSource\"},\"glyph\":{\"id\":\"1404\",\"type\":\"Circle\"},\"hover_glyph\":null,\"muted_glyph\":null,\"name\":\"center_dot\",\"nonselection_glyph\":{\"id\":\"1405\",\"type\":\"Circle\"},\"selection_glyph\":null,\"view\":{\"id\":\"1407\",\"type\":\"CDSView\"}},\"id\":\"1406\",\"type\":\"GlyphRenderer\"},{\"attributes\":{\"callback\":null,\"data\":{},\"selected\":{\"id\":\"1524\",\"type\":\"Selection\"},\"selection_policy\":{\"id\":\"1523\",\"type\":\"UnionRenderers\"}},\"id\":\"1408\",\"type\":\"ColumnDataSource\"},{\"attributes\":{\"line_alpha\":{\"value\":0.1},\"line_color\":{\"value\":\"#1f77b4\"},\"xs\":{\"field\":\"xs\"},\"ys\":{\"field\":\"ys\"}},\"id\":\"1390\",\"type\":\"MultiLine\"},{\"attributes\":{\"callback\":null,\"data\":{},\"selected\":{\"id\":\"1522\",\"type\":\"Selection\"},\"selection_policy\":{\"id\":\"1521\",\"type\":\"UnionRenderers\"}},\"id\":\"1403\",\"type\":\"ColumnDataSource\"},{\"attributes\":{\"fill_color\":{\"value\":\"black\"},\"size\":{\"units\":\"screen\",\"value\":5},\"x\":{\"value\":60},\"y\":{\"value\":40}},\"id\":\"1404\",\"type\":\"Circle\"},{\"attributes\":{\"source\":{\"id\":\"1403\",\"type\":\"ColumnDataSource\"}},\"id\":\"1407\",\"type\":\"CDSView\"},{\"attributes\":{\"data_source\":{\"id\":\"1398\",\"type\":\"ColumnDataSource\"},\"glyph\":{\"id\":\"1399\",\"type\":\"Circle\"},\"hover_glyph\":null,\"muted_glyph\":null,\"name\":\"center_cirle\",\"nonselection_glyph\":{\"id\":\"1400\",\"type\":\"Circle\"},\"selection_glyph\":null,\"view\":{\"id\":\"1402\",\"type\":\"CDSView\"}},\"id\":\"1401\",\"type\":\"GlyphRenderer\"},{\"attributes\":{\"source\":{\"id\":\"1393\",\"type\":\"ColumnDataSource\"}},\"id\":\"1397\",\"type\":\"CDSView\"},{\"attributes\":{\"xs\":{\"field\":\"xs\"},\"ys\":{\"field\":\"ys\"}},\"id\":\"1389\",\"type\":\"MultiLine\"},{\"attributes\":{\"data_source\":{\"id\":\"1393\",\"type\":\"ColumnDataSource\"},\"glyph\":{\"id\":\"1394\",\"type\":\"MultiLine\"},\"hover_glyph\":null,\"muted_glyph\":null,\"name\":\"right_goal\",\"nonselection_glyph\":{\"id\":\"1395\",\"type\":\"MultiLine\"},\"selection_glyph\":null,\"view\":{\"id\":\"1397\",\"type\":\"CDSView\"}},\"id\":\"1396\",\"type\":\"GlyphRenderer\"},{\"attributes\":{\"source\":{\"id\":\"1368\",\"type\":\"ColumnDataSource\"}},\"id\":\"1372\",\"type\":\"CDSView\"},{\"attributes\":{\"callback\":null,\"data\":{\"xs\":[[0,6],[6,6],[6,0]],\"ys\":[[50,50],[50,30],[30,30]]},\"selected\":{\"id\":\"1512\",\"type\":\"Selection\"},\"selection_policy\":{\"id\":\"1511\",\"type\":\"UnionRenderers\"}},\"id\":\"1378\",\"type\":\"ColumnDataSource\"}],\"root_ids\":[\"1328\"]},\"title\":\"Bokeh Application\",\"version\":\"1.0.1\"}};\n",
       "  var render_items = [{\"docid\":\"9caebf5e-7ed2-427a-bdc9-be0baf70e221\",\"roots\":{\"1328\":\"26a92e85-0216-45e2-8997-adce1f205043\"}}];\n",
       "  root.Bokeh.embed.embed_items_notebook(docs_json, render_items);\n",
       "\n",
       "  }\n",
       "  if (root.Bokeh !== undefined) {\n",
       "    embed_document(root);\n",
       "  } else {\n",
       "    var attempts = 0;\n",
       "    var timer = setInterval(function(root) {\n",
       "      if (root.Bokeh !== undefined) {\n",
       "        embed_document(root);\n",
       "        clearInterval(timer);\n",
       "      }\n",
       "      attempts++;\n",
       "      if (attempts > 100) {\n",
       "        console.log(\"Bokeh: ERROR: Unable to run BokehJS code because BokehJS library is missing\");\n",
       "        clearInterval(timer);\n",
       "      }\n",
       "    }, 10, root)\n",
       "  }\n",
       "})(window);"
      ],
      "application/vnd.bokehjs_exec.v0+json": ""
     },
     "metadata": {
      "application/vnd.bokehjs_exec.v0+json": {
       "id": "1328"
      }
     },
     "output_type": "display_data"
    }
   ],
   "source": [
    "plot = plotpitch_bokeh(display=False)\n",
    "for line in df_shots[['location', 'shot_end_location', 'possession_team_name']].head(10).iterrows():\n",
    "    x,y,dx,dy,c = getArrow(line[1][0], line[1][1][0:2], line[1][2], 'England', viz=\"bokeh\")\n",
    "    plot.add_layout(Arrow(end=OpenHead(size=10, line_color=c), \n",
    "                          line_color=c,\n",
    "                          x_start=x, y_start=y, x_end=dx, y_end=dy))\n",
    "    plot.add_layout(Label(x=x, y=y, text_font_size=\"10pt\", text=str(line[0])))\n",
    "show(plot)"
   ]
  }
 ],
 "metadata": {
  "kernelspec": {
   "display_name": "Python [conda env:statsbomb]",
   "language": "python",
   "name": "conda-env-statsbomb-py"
  },
  "language_info": {
   "codemirror_mode": {
    "name": "ipython",
    "version": 3
   },
   "file_extension": ".py",
   "mimetype": "text/x-python",
   "name": "python",
   "nbconvert_exporter": "python",
   "pygments_lexer": "ipython3",
   "version": "3.6.2"
  }
 },
 "nbformat": 4,
 "nbformat_minor": 2
}
